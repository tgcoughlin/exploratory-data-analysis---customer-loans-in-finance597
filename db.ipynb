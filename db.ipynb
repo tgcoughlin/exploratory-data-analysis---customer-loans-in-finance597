{
 "cells": [
  {
   "cell_type": "markdown",
   "metadata": {},
   "source": [
    "Load the data"
   ]
  },
  {
   "cell_type": "code",
   "execution_count": 21,
   "metadata": {},
   "outputs": [
    {
     "name": "stdout",
     "output_type": "stream",
     "text": [
      "         id  member_id  loan_amount  funded_amount  funded_amount_inv  \\\n",
      "0  38676116   41461848         8000         8000.0             8000.0   \n",
      "1  38656203   41440010        13200        13200.0            13200.0   \n",
      "2  38656154   41439961        16000        16000.0            16000.0   \n",
      "3  38656128   41439934        15000        15000.0            15000.0   \n",
      "4  38656121   41439927        15000        15000.0            15000.0   \n",
      "\n",
      "        term  int_rate  instalment grade sub_grade  ... recoveries  \\\n",
      "0  36 months      7.49      248.82     A        A4  ...        0.0   \n",
      "1  36 months      6.99      407.52     A        A3  ...        0.0   \n",
      "2  36 months      7.49      497.63     A        A4  ...        0.0   \n",
      "3  36 months     14.31      514.93     C        C4  ...        0.0   \n",
      "4  36 months      6.03      456.54     A        A1  ...        0.0   \n",
      "\n",
      "  collection_recovery_fee  last_payment_date last_payment_amount  \\\n",
      "0                     0.0           Jan-2022              248.82   \n",
      "1                     0.0           Jan-2022              407.52   \n",
      "2                     0.0           Oct-2021            12850.16   \n",
      "3                     0.0           Jun-2021            13899.67   \n",
      "4                     0.0           Jan-2022              456.54   \n",
      "\n",
      "  next_payment_date last_credit_pull_date collections_12_mths_ex_med  \\\n",
      "0          Feb-2022              Jan-2022                        0.0   \n",
      "1          Feb-2022              Jan-2022                        0.0   \n",
      "2               NaN              Oct-2021                        0.0   \n",
      "3               NaN              Jun-2021                        0.0   \n",
      "4          Feb-2022              Jan-2022                        0.0   \n",
      "\n",
      "  mths_since_last_major_derog  policy_code  application_type  \n",
      "0                         5.0            1        INDIVIDUAL  \n",
      "1                         NaN            1        INDIVIDUAL  \n",
      "2                         NaN            1        INDIVIDUAL  \n",
      "3                         NaN            1        INDIVIDUAL  \n",
      "4                         NaN            1        INDIVIDUAL  \n",
      "\n",
      "[5 rows x 43 columns]\n",
      "id                               int64\n",
      "member_id                        int64\n",
      "loan_amount                      int64\n",
      "funded_amount                  float64\n",
      "funded_amount_inv              float64\n",
      "term                            object\n",
      "int_rate                       float64\n",
      "instalment                     float64\n",
      "grade                           object\n",
      "sub_grade                       object\n",
      "employment_length               object\n",
      "home_ownership                  object\n",
      "annual_inc                     float64\n",
      "verification_status             object\n",
      "issue_date                      object\n",
      "loan_status                     object\n",
      "payment_plan                    object\n",
      "purpose                         object\n",
      "dti                            float64\n",
      "delinq_2yrs                      int64\n",
      "earliest_credit_line            object\n",
      "inq_last_6mths                   int64\n",
      "mths_since_last_delinq         float64\n",
      "mths_since_last_record         float64\n",
      "open_accounts                    int64\n",
      "total_accounts                   int64\n",
      "out_prncp                      float64\n",
      "out_prncp_inv                  float64\n",
      "total_payment                  float64\n",
      "total_payment_inv              float64\n",
      "total_rec_prncp                float64\n",
      "total_rec_int                  float64\n",
      "total_rec_late_fee             float64\n",
      "recoveries                     float64\n",
      "collection_recovery_fee        float64\n",
      "last_payment_date               object\n",
      "last_payment_amount            float64\n",
      "next_payment_date               object\n",
      "last_credit_pull_date           object\n",
      "collections_12_mths_ex_med     float64\n",
      "mths_since_last_major_derog    float64\n",
      "policy_code                      int64\n",
      "application_type                object\n",
      "dtype: object\n",
      "<class 'pandas.core.frame.DataFrame'>\n",
      "RangeIndex: 54231 entries, 0 to 54230\n",
      "Data columns (total 43 columns):\n",
      " #   Column                       Non-Null Count  Dtype  \n",
      "---  ------                       --------------  -----  \n",
      " 0   id                           54231 non-null  int64  \n",
      " 1   member_id                    54231 non-null  int64  \n",
      " 2   loan_amount                  54231 non-null  int64  \n",
      " 3   funded_amount                51224 non-null  float64\n",
      " 4   funded_amount_inv            54231 non-null  float64\n",
      " 5   term                         49459 non-null  object \n",
      " 6   int_rate                     49062 non-null  float64\n",
      " 7   instalment                   54231 non-null  float64\n",
      " 8   grade                        54231 non-null  object \n",
      " 9   sub_grade                    54231 non-null  object \n",
      " 10  employment_length            52113 non-null  object \n",
      " 11  home_ownership               54231 non-null  object \n",
      " 12  annual_inc                   54231 non-null  float64\n",
      " 13  verification_status          54231 non-null  object \n",
      " 14  issue_date                   54231 non-null  object \n",
      " 15  loan_status                  54231 non-null  object \n",
      " 16  payment_plan                 54231 non-null  object \n",
      " 17  purpose                      54231 non-null  object \n",
      " 18  dti                          54231 non-null  float64\n",
      " 19  delinq_2yrs                  54231 non-null  int64  \n",
      " 20  earliest_credit_line         54231 non-null  object \n",
      " 21  inq_last_6mths               54231 non-null  int64  \n",
      " 22  mths_since_last_delinq       23229 non-null  float64\n",
      " 23  mths_since_last_record       6181 non-null   float64\n",
      " 24  open_accounts                54231 non-null  int64  \n",
      " 25  total_accounts               54231 non-null  int64  \n",
      " 26  out_prncp                    54231 non-null  float64\n",
      " 27  out_prncp_inv                54231 non-null  float64\n",
      " 28  total_payment                54231 non-null  float64\n",
      " 29  total_payment_inv            54231 non-null  float64\n",
      " 30  total_rec_prncp              54231 non-null  float64\n",
      " 31  total_rec_int                54231 non-null  float64\n",
      " 32  total_rec_late_fee           54231 non-null  float64\n",
      " 33  recoveries                   54231 non-null  float64\n",
      " 34  collection_recovery_fee      54231 non-null  float64\n",
      " 35  last_payment_date            54158 non-null  object \n",
      " 36  last_payment_amount          54231 non-null  float64\n",
      " 37  next_payment_date            21623 non-null  object \n",
      " 38  last_credit_pull_date        54224 non-null  object \n",
      " 39  collections_12_mths_ex_med   54180 non-null  float64\n",
      " 40  mths_since_last_major_derog  7499 non-null   float64\n",
      " 41  policy_code                  54231 non-null  int64  \n",
      " 42  application_type             54231 non-null  object \n",
      "dtypes: float64(20), int64(8), object(15)\n",
      "memory usage: 17.8+ MB\n",
      "None\n"
     ]
    }
   ],
   "source": [
    "import pandas as pd\n",
    "\n",
    "def load_local_file(file_path):\n",
    "    local_df = pd.read_csv(file_path)\n",
    "    return local_df \n",
    "    \n",
    "finance_df = load_local_file('loan_payments.csv')   \n",
    "print(finance_df.head())\n",
    "print(finance_df.dtypes)\n",
    "print(finance_df.info())"
   ]
  },
  {
   "cell_type": "markdown",
   "metadata": {},
   "source": [
    "Transform Functions"
   ]
  },
  {
   "cell_type": "code",
   "execution_count": 199,
   "metadata": {},
   "outputs": [],
   "source": [
    "from scipy import stats\n",
    "\n",
    "class DataTransform:\n",
    "    def __init__(self, dataframe) -> None:\n",
    "        \"\"\"\n",
    "        initialises the class\n",
    "        \"\"\"\n",
    "        self.dataframe = dataframe\n",
    "        \n",
    "\n",
    "    def remove_txt(self, column):\n",
    "        \"\"\" \n",
    "        Removes superfluent text from column data\n",
    "        \"\"\"\n",
    "        self.dataframe[column] = pd.to_numeric(self.dataframe[column].str.extract('(\\d+)', expand=False))\n",
    "        \n",
    "        \n",
    "\n",
    "    def correct_date_format(self):\n",
    "       \"\"\"\n",
    "       Converts the date format of all columns that contain a date\n",
    "       \"\"\"\n",
    "       for column_name in self.dataframe.columns:\n",
    "        if 'date' in column_name.lower():\n",
    "            self.dataframe[column_name] = pd.to_datetime(self.dataframe[column_name])\n",
    "    \n",
    "    def correct_single_date_column(self, column_name):\n",
    "       self.dataframe[column_name] = pd.to_datetime(self.dataframe[column_name])\n",
    "            \n",
    "    \n",
    "    def type_to_category(self, column_name):\n",
    "       \"\"\"\n",
    "       converts a column to a categorical data type\n",
    "       \"\"\"\n",
    "       self.dataframe[column_name] = self.dataframe[column_name].astype('category')\n",
    "    \n",
    "    def remove_outliers_z(self, columnname):\n",
    "       z_scores = stats.zscore(self.dataframe[columnname])\n",
    "       threshold = 2\n",
    "       outlier_mask = (abs(z_scores) > threshold)\n",
    "       removed_outliers_df = self.dataframe[~outlier_mask]\n",
    "       return removed_outliers_df\n",
    "       \n",
    "       \n",
    "\n",
    "mydata = DataTransform(finance_df)\n"
   ]
  },
  {
   "cell_type": "code",
   "execution_count": 123,
   "metadata": {},
   "outputs": [],
   "source": [
    "mydata.remove_txt('employment_length')"
   ]
  },
  {
   "cell_type": "code",
   "execution_count": 42,
   "metadata": {},
   "outputs": [],
   "source": [
    "mydata.type_to_category('home_ownership')"
   ]
  },
  {
   "cell_type": "code",
   "execution_count": 36,
   "metadata": {},
   "outputs": [],
   "source": [
    "\"\"\"\n",
    "re-saves the updated DF to CSV\n",
    "\"\"\"\n",
    "finance_df.to_csv(r'C:\\Users\\Tom\\EDS_Project_Loan_Finance\\loan_payments_transformed.csv', index=False)"
   ]
  },
  {
   "cell_type": "code",
   "execution_count": 26,
   "metadata": {},
   "outputs": [
    {
     "name": "stderr",
     "output_type": "stream",
     "text": [
      "C:\\Users\\Tom\\AppData\\Local\\Temp\\ipykernel_15648\\4113723130.py:14: UserWarning: Could not infer format, so each element will be parsed individually, falling back to `dateutil`. To ensure parsing is consistent and as-expected, please specify a format.\n",
      "  self.dataframe[column_name] = pd.to_datetime(self.dataframe[column_name])\n",
      "C:\\Users\\Tom\\AppData\\Local\\Temp\\ipykernel_15648\\4113723130.py:14: UserWarning: Could not infer format, so each element will be parsed individually, falling back to `dateutil`. To ensure parsing is consistent and as-expected, please specify a format.\n",
      "  self.dataframe[column_name] = pd.to_datetime(self.dataframe[column_name])\n",
      "C:\\Users\\Tom\\AppData\\Local\\Temp\\ipykernel_15648\\4113723130.py:14: UserWarning: Could not infer format, so each element will be parsed individually, falling back to `dateutil`. To ensure parsing is consistent and as-expected, please specify a format.\n",
      "  self.dataframe[column_name] = pd.to_datetime(self.dataframe[column_name])\n",
      "C:\\Users\\Tom\\AppData\\Local\\Temp\\ipykernel_15648\\4113723130.py:14: UserWarning: Could not infer format, so each element will be parsed individually, falling back to `dateutil`. To ensure parsing is consistent and as-expected, please specify a format.\n",
      "  self.dataframe[column_name] = pd.to_datetime(self.dataframe[column_name])\n"
     ]
    }
   ],
   "source": [
    "mydata.correct_date_format()\n"
   ]
  },
  {
   "cell_type": "code",
   "execution_count": 28,
   "metadata": {},
   "outputs": [
    {
     "name": "stderr",
     "output_type": "stream",
     "text": [
      "C:\\Users\\Tom\\AppData\\Local\\Temp\\ipykernel_15648\\4113723130.py:17: UserWarning: Could not infer format, so each element will be parsed individually, falling back to `dateutil`. To ensure parsing is consistent and as-expected, please specify a format.\n",
      "  self.dataframe[column_name] = pd.to_datetime(self.dataframe[column_name])\n"
     ]
    }
   ],
   "source": [
    "mydata.correct_single_date_column('earliest_credit_line')"
   ]
  },
  {
   "cell_type": "code",
   "execution_count": 31,
   "metadata": {},
   "outputs": [],
   "source": [
    "mydata.remove_txt('term')"
   ]
  },
  {
   "cell_type": "code",
   "execution_count": 124,
   "metadata": {},
   "outputs": [
    {
     "data": {
      "text/plain": [
       "id                                      int64\n",
       "member_id                               int64\n",
       "loan_amount                             int64\n",
       "funded_amount                         float64\n",
       "funded_amount_inv                     float64\n",
       "term                                  float64\n",
       "int_rate                              float64\n",
       "instalment                            float64\n",
       "grade                                  object\n",
       "sub_grade                              object\n",
       "employment_length                     float64\n",
       "home_ownership                       category\n",
       "annual_inc                            float64\n",
       "verification_status                    object\n",
       "issue_date                     datetime64[ns]\n",
       "loan_status                            object\n",
       "payment_plan                           object\n",
       "purpose                              category\n",
       "dti                                   float64\n",
       "delinq_2yrs                             int64\n",
       "earliest_credit_line           datetime64[ns]\n",
       "inq_last_6mths                          int64\n",
       "mths_since_last_delinq                float64\n",
       "mths_since_last_record                float64\n",
       "open_accounts                           int64\n",
       "total_accounts                          int64\n",
       "out_prncp                             float64\n",
       "out_prncp_inv                         float64\n",
       "total_payment                         float64\n",
       "total_payment_inv                     float64\n",
       "total_rec_prncp                       float64\n",
       "total_rec_int                         float64\n",
       "total_rec_late_fee                    float64\n",
       "recoveries                            float64\n",
       "collection_recovery_fee               float64\n",
       "last_payment_date              datetime64[ns]\n",
       "last_payment_amount                   float64\n",
       "next_payment_date              datetime64[ns]\n",
       "last_credit_pull_date          datetime64[ns]\n",
       "collections_12_mths_ex_med            float64\n",
       "mths_since_last_major_derog           float64\n",
       "policy_code                             int64\n",
       "application_type                       object\n",
       "dtype: object"
      ]
     },
     "execution_count": 124,
     "metadata": {},
     "output_type": "execute_result"
    }
   ],
   "source": [
    "finance_df.dtypes"
   ]
  },
  {
   "cell_type": "code",
   "execution_count": 185,
   "metadata": {},
   "outputs": [
    {
     "name": "stdout",
     "output_type": "stream",
     "text": [
      "DataFrame Summary:\n",
      "                 id     member_id   loan_amount  funded_amount  \\\n",
      "count  5.423100e+04  5.423100e+04  54231.000000   51224.000000   \n",
      "mean   7.621797e+06  8.655350e+06  13333.076100   13229.509117   \n",
      "min    5.552100e+04  7.069400e+04    500.000000     500.000000   \n",
      "25%    7.594330e+05  9.587720e+05   7000.000000    7000.000000   \n",
      "50%    7.084590e+06  8.709873e+06  12000.000000   12000.000000   \n",
      "75%    8.860616e+06  1.052714e+07  18000.000000   18000.000000   \n",
      "max    3.867612e+07  4.146185e+07  35000.000000   35000.000000   \n",
      "std    9.571362e+06  1.031281e+07   8082.196709    8019.017599   \n",
      "\n",
      "       funded_amount_inv          term      int_rate    instalment  \\\n",
      "count       54231.000000  49459.000000  49062.000000  54231.000000   \n",
      "mean        12952.622979     42.606199     13.507328    400.013953   \n",
      "min             0.000000     36.000000      5.420000     15.670000   \n",
      "25%          6700.000000     36.000000     10.370000    224.205000   \n",
      "50%         11300.000000     36.000000     13.160000    347.150000   \n",
      "75%         18000.000000     60.000000     16.200000    527.550000   \n",
      "max         35000.000000     60.000000     26.060000   1407.010000   \n",
      "std          8099.473527     10.719573      4.392893    238.920012   \n",
      "\n",
      "       employment_length    annual_inc  ... total_rec_late_fee    recoveries  \\\n",
      "count       52113.000000  5.423100e+04  ...       54231.000000  54231.000000   \n",
      "mean            5.787347  7.222085e+04  ...           0.901512     93.501288   \n",
      "min             1.000000  3.300000e+03  ...           0.000000      0.000000   \n",
      "25%             2.000000  4.500000e+04  ...           0.000000      0.000000   \n",
      "50%             6.000000  6.100000e+04  ...           0.000000      0.000000   \n",
      "75%            10.000000  8.600000e+04  ...           0.000000      0.000000   \n",
      "max            10.000000  2.039784e+06  ...         358.680000  27750.000000   \n",
      "std             3.508065  5.158934e+04  ...           6.215792    630.843636   \n",
      "\n",
      "       collection_recovery_fee              last_payment_date  \\\n",
      "count             54231.000000                          54158   \n",
      "mean                 10.859057  2020-08-23 00:21:38.600391680   \n",
      "min                   0.000000            2013-12-01 00:00:00   \n",
      "25%                   0.000000            2019-11-01 00:00:00   \n",
      "50%                   0.000000            2021-04-01 00:00:00   \n",
      "75%                   0.000000            2022-01-01 00:00:00   \n",
      "max                7002.190000            2022-01-01 00:00:00   \n",
      "std                 120.193950                            NaN   \n",
      "\n",
      "       last_payment_amount              next_payment_date  \\\n",
      "count         54231.000000                          21623   \n",
      "mean           3130.706393  2021-10-18 16:47:47.613189632   \n",
      "min               0.000000            2014-01-01 00:00:00   \n",
      "25%             289.790000            2022-02-01 00:00:00   \n",
      "50%             562.670000            2022-02-01 00:00:00   \n",
      "75%            3738.120000            2022-02-01 00:00:00   \n",
      "max           36115.200000            2022-02-01 00:00:00   \n",
      "std            5323.801675                            NaN   \n",
      "\n",
      "               last_credit_pull_date  collections_12_mths_ex_med  \\\n",
      "count                          54224                54180.000000   \n",
      "mean   2021-04-15 16:16:28.964296192                    0.004208   \n",
      "min              2013-05-01 00:00:00                    0.000000   \n",
      "25%              2021-02-01 00:00:00                    0.000000   \n",
      "50%              2022-01-01 00:00:00                    0.000000   \n",
      "75%              2022-01-01 00:00:00                    0.000000   \n",
      "max              2022-01-01 00:00:00                    4.000000   \n",
      "std                              NaN                    0.070990   \n",
      "\n",
      "       mths_since_last_major_derog  policy_code  \n",
      "count                  7499.000000      54231.0  \n",
      "mean                     42.253634          1.0  \n",
      "min                       0.000000          1.0  \n",
      "25%                      26.000000          1.0  \n",
      "50%                      42.000000          1.0  \n",
      "75%                      59.000000          1.0  \n",
      "max                     146.000000          1.0  \n",
      "std                      21.052360          0.0  \n",
      "\n",
      "[8 rows x 35 columns]\n",
      "\n",
      "Missing Values:\n",
      "                             missing_values\n",
      "id                                        0\n",
      "member_id                                 0\n",
      "loan_amount                               0\n",
      "funded_amount                          3007\n",
      "funded_amount_inv                         0\n",
      "term                                   4772\n",
      "int_rate                               5169\n",
      "instalment                                0\n",
      "grade                                     0\n",
      "sub_grade                                 0\n",
      "employment_length                      2118\n",
      "home_ownership                            0\n",
      "annual_inc                                0\n",
      "verification_status                       0\n",
      "issue_date                                0\n",
      "loan_status                               0\n",
      "payment_plan                              0\n",
      "purpose                                   0\n",
      "dti                                       0\n",
      "delinq_2yrs                               0\n",
      "earliest_credit_line                      0\n",
      "inq_last_6mths                            0\n",
      "mths_since_last_delinq                31002\n",
      "mths_since_last_record                48050\n",
      "open_accounts                             0\n",
      "total_accounts                            0\n",
      "out_prncp                                 0\n",
      "out_prncp_inv                             0\n",
      "total_payment                             0\n",
      "total_payment_inv                         0\n",
      "total_rec_prncp                           0\n",
      "total_rec_int                             0\n",
      "total_rec_late_fee                        0\n",
      "recoveries                                0\n",
      "collection_recovery_fee                   0\n",
      "last_payment_date                        73\n",
      "last_payment_amount                       0\n",
      "next_payment_date                     32608\n",
      "last_credit_pull_date                     7\n",
      "collections_12_mths_ex_med               51\n",
      "mths_since_last_major_derog           46732\n",
      "policy_code                               0\n",
      "application_type                          0\n",
      "\n",
      "Data Types:\n",
      "id                                      int64\n",
      "member_id                               int64\n",
      "loan_amount                             int64\n",
      "funded_amount                         float64\n",
      "funded_amount_inv                     float64\n",
      "term                                  float64\n",
      "int_rate                              float64\n",
      "instalment                            float64\n",
      "grade                                  object\n",
      "sub_grade                              object\n",
      "employment_length                     float64\n",
      "home_ownership                       category\n",
      "annual_inc                            float64\n",
      "verification_status                    object\n",
      "issue_date                     datetime64[ns]\n",
      "loan_status                            object\n",
      "payment_plan                           object\n",
      "purpose                              category\n",
      "dti                                   float64\n",
      "delinq_2yrs                             int64\n",
      "earliest_credit_line           datetime64[ns]\n",
      "inq_last_6mths                          int64\n",
      "mths_since_last_delinq                float64\n",
      "mths_since_last_record                float64\n",
      "open_accounts                           int64\n",
      "total_accounts                          int64\n",
      "out_prncp                             float64\n",
      "out_prncp_inv                         float64\n",
      "total_payment                         float64\n",
      "total_payment_inv                     float64\n",
      "total_rec_prncp                       float64\n",
      "total_rec_int                         float64\n",
      "total_rec_late_fee                    float64\n",
      "recoveries                            float64\n",
      "collection_recovery_fee               float64\n",
      "last_payment_date              datetime64[ns]\n",
      "last_payment_amount                   float64\n",
      "next_payment_date              datetime64[ns]\n",
      "last_credit_pull_date          datetime64[ns]\n",
      "collections_12_mths_ex_med            float64\n",
      "mths_since_last_major_derog           float64\n",
      "policy_code                             int64\n",
      "application_type                       object\n",
      "dtype: object\n",
      "\n",
      "Unique Values in Column:\n",
      "[ 5.  9.  8.  1. 10. nan  7.  3.  4.  6.  2.]\n",
      "\n",
      "Value Counts in Column:\n",
      "int_rate\n",
      "11.99    1848\n",
      "10.99    1842\n",
      "12.99    1609\n",
      "15.61    1158\n",
      "7.90     1045\n",
      "         ... \n",
      "24.59       1\n",
      "18.49       1\n",
      "12.62       1\n",
      "17.41       1\n",
      "15.38       1\n",
      "Name: count, Length: 457, dtype: int64\n",
      "\n",
      "Shape of data is\n",
      "(54231, 43)\n",
      "\n",
      "Distinct Values Count in Categorical Columns:\n",
      "{'home_ownership': 5, 'purpose': 14}\n",
      "\n",
      "NULL Values Stats:\n",
      "                             null_count  null_percentage\n",
      "id                                    0         0.000000\n",
      "member_id                             0         0.000000\n",
      "loan_amount                           0         0.000000\n",
      "funded_amount                      3007         5.544799\n",
      "funded_amount_inv                     0         0.000000\n",
      "term                               4772         8.799395\n",
      "int_rate                           5169         9.531449\n",
      "instalment                            0         0.000000\n",
      "grade                                 0         0.000000\n",
      "sub_grade                             0         0.000000\n",
      "employment_length                  2118         3.905515\n",
      "home_ownership                        0         0.000000\n",
      "annual_inc                            0         0.000000\n",
      "verification_status                   0         0.000000\n",
      "issue_date                            0         0.000000\n",
      "loan_status                           0         0.000000\n",
      "payment_plan                          0         0.000000\n",
      "purpose                               0         0.000000\n",
      "dti                                   0         0.000000\n",
      "delinq_2yrs                           0         0.000000\n",
      "earliest_credit_line                  0         0.000000\n",
      "inq_last_6mths                        0         0.000000\n",
      "mths_since_last_delinq            31002        57.166565\n",
      "mths_since_last_record            48050        88.602460\n",
      "open_accounts                         0         0.000000\n",
      "total_accounts                        0         0.000000\n",
      "out_prncp                             0         0.000000\n",
      "out_prncp_inv                         0         0.000000\n",
      "total_payment                         0         0.000000\n",
      "total_payment_inv                     0         0.000000\n",
      "total_rec_prncp                       0         0.000000\n",
      "total_rec_int                         0         0.000000\n",
      "total_rec_late_fee                    0         0.000000\n",
      "recoveries                            0         0.000000\n",
      "collection_recovery_fee               0         0.000000\n",
      "last_payment_date                    73         0.134609\n",
      "last_payment_amount                   0         0.000000\n",
      "next_payment_date                 32608        60.127971\n",
      "last_credit_pull_date                 7         0.012908\n",
      "collections_12_mths_ex_med           51         0.094042\n",
      "mths_since_last_major_derog       46732        86.172116\n",
      "policy_code                           0         0.000000\n",
      "application_type                      0         0.000000\n"
     ]
    }
   ],
   "source": [
    "import pandas as pd\n",
    "\n",
    "class DataFrameInfo:\n",
    "    def __init__(self, dataframe):\n",
    "        self.dataframe = dataframe\n",
    "\n",
    "    def get_summary(self):\n",
    "        \"\"\"\n",
    "        Returns a summary of the DataFrame including basic statistics.\n",
    "        \"\"\"\n",
    "        return self.dataframe.describe()\n",
    "\n",
    "    def get_missing_values(self):\n",
    "        \"\"\"\n",
    "        Returns a DataFrame showing the count of missing values in each column.\n",
    "        \"\"\"\n",
    "        return self.dataframe.isnull().sum().to_frame(name='missing_values')\n",
    "\n",
    "    def get_data_types(self):\n",
    "        \"\"\"\n",
    "        Returns a Series with data types of each column.\n",
    "        \"\"\"\n",
    "        return self.dataframe.dtypes\n",
    "\n",
    "    def get_unique_values(self, column_name):\n",
    "        \"\"\"\n",
    "        Returns unique values in a specific column.\n",
    "        \"\"\"\n",
    "        return self.dataframe[column_name].unique()\n",
    "\n",
    "    def get_value_counts(self, column_name):\n",
    "        \"\"\"\n",
    "        Returns value counts of unique values in a specific column.\n",
    "        \"\"\"\n",
    "        return self.dataframe[column_name].value_counts()\n",
    "    \n",
    "    def get_shape_of_df(self):\n",
    "        return self.dataframe.shape\n",
    "    \n",
    "    def count_distinct_values_categorical(self):\n",
    "        \"\"\"\n",
    "        Returns the count of distinct values in categorical columns.\n",
    "        Assumes categorical columns have 'category' dtype.\n",
    "        \"\"\"\n",
    "        categorical_columns = self.dataframe.select_dtypes(include='category').columns\n",
    "        distinct_values_count = {}\n",
    "        for col in categorical_columns:\n",
    "            distinct_values_count[col] = len(self.dataframe[col].cat.categories)\n",
    "        return distinct_values_count\n",
    "\n",
    "    def get_null_values_stats(self):\n",
    "        \"\"\"\n",
    "        Generates a count and percentage of NULL values in each column.\n",
    "        \"\"\"\n",
    "        null_count = self.dataframe.isnull().sum()\n",
    "        null_percentage = (null_count / len(self.dataframe)) * 100\n",
    "        null_stats = pd.DataFrame({\n",
    "            'null_count': null_count,\n",
    "            'null_percentage': null_percentage\n",
    "        })\n",
    "        return null_stats\n",
    "\n",
    "df_info = DataFrameInfo(finance_df)\n",
    "\n",
    "summary = df_info.get_summary()\n",
    "print(\"DataFrame Summary:\")\n",
    "print(summary)\n",
    "\n",
    "missing_values = df_info.get_missing_values()\n",
    "print(\"\\nMissing Values:\")\n",
    "print(missing_values)\n",
    "\n",
    "data_types = df_info.get_data_types()\n",
    "print(\"\\nData Types:\")\n",
    "print(data_types)\n",
    "\n",
    "unique_values_column = df_info.get_unique_values('employment_length')\n",
    "print(\"\\nUnique Values in Column:\")\n",
    "print(unique_values_column)\n",
    "\n",
    "value_counts_column = df_info.get_value_counts('int_rate')\n",
    "print(\"\\nValue Counts in Column:\")\n",
    "print(value_counts_column)\n",
    "\n",
    "shape_of_df = df_info.get_shape_of_df()\n",
    "print(\"\\nShape of data is\")\n",
    "print(shape_of_df)\n",
    "\n",
    "distinct_values_count = df_info.count_distinct_values_categorical()\n",
    "print(\"\\nDistinct Values Count in Categorical Columns:\")\n",
    "print(distinct_values_count)\n",
    "\n",
    "# Generate count/percentage count of NULL values in each column\n",
    "null_values_stats = df_info.get_null_values_stats()\n",
    "print(\"\\nNULL Values Stats:\")\n",
    "print(null_values_stats)\n"
   ]
  },
  {
   "cell_type": "code",
   "execution_count": 54,
   "metadata": {},
   "outputs": [
    {
     "name": "stdout",
     "output_type": "stream",
     "text": [
      "<class 'pandas.core.frame.DataFrame'>\n",
      "RangeIndex: 54231 entries, 0 to 54230\n",
      "Data columns (total 40 columns):\n",
      " #   Column                      Non-Null Count  Dtype         \n",
      "---  ------                      --------------  -----         \n",
      " 0   id                          54231 non-null  int64         \n",
      " 1   member_id                   54231 non-null  int64         \n",
      " 2   loan_amount                 54231 non-null  int64         \n",
      " 3   funded_amount               51224 non-null  float64       \n",
      " 4   funded_amount_inv           54231 non-null  float64       \n",
      " 5   term                        49459 non-null  float64       \n",
      " 6   int_rate                    49062 non-null  float64       \n",
      " 7   instalment                  54231 non-null  float64       \n",
      " 8   grade                       54231 non-null  object        \n",
      " 9   sub_grade                   54231 non-null  object        \n",
      " 10  employment_length           52113 non-null  category      \n",
      " 11  home_ownership              54231 non-null  category      \n",
      " 12  annual_inc                  54231 non-null  float64       \n",
      " 13  verification_status         54231 non-null  object        \n",
      " 14  issue_date                  54231 non-null  datetime64[ns]\n",
      " 15  loan_status                 54231 non-null  object        \n",
      " 16  payment_plan                54231 non-null  object        \n",
      " 17  purpose                     54231 non-null  category      \n",
      " 18  dti                         54231 non-null  float64       \n",
      " 19  delinq_2yrs                 54231 non-null  int64         \n",
      " 20  earliest_credit_line        54231 non-null  datetime64[ns]\n",
      " 21  inq_last_6mths              54231 non-null  int64         \n",
      " 22  open_accounts               54231 non-null  int64         \n",
      " 23  total_accounts              54231 non-null  int64         \n",
      " 24  out_prncp                   54231 non-null  float64       \n",
      " 25  out_prncp_inv               54231 non-null  float64       \n",
      " 26  total_payment               54231 non-null  float64       \n",
      " 27  total_payment_inv           54231 non-null  float64       \n",
      " 28  total_rec_prncp             54231 non-null  float64       \n",
      " 29  total_rec_int               54231 non-null  float64       \n",
      " 30  total_rec_late_fee          54231 non-null  float64       \n",
      " 31  recoveries                  54231 non-null  float64       \n",
      " 32  collection_recovery_fee     54231 non-null  float64       \n",
      " 33  last_payment_date           54158 non-null  datetime64[ns]\n",
      " 34  last_payment_amount         54231 non-null  float64       \n",
      " 35  next_payment_date           21623 non-null  datetime64[ns]\n",
      " 36  last_credit_pull_date       54224 non-null  datetime64[ns]\n",
      " 37  collections_12_mths_ex_med  54180 non-null  float64       \n",
      " 38  policy_code                 54231 non-null  int64         \n",
      " 39  application_type            54231 non-null  object        \n",
      "dtypes: category(3), datetime64[ns](5), float64(18), int64(8), object(6)\n",
      "memory usage: 15.5+ MB\n",
      "None\n"
     ]
    }
   ],
   "source": [
    "columns_to_drop = ['mths_since_last_major_derog', 'mths_since_last_record', 'mths_since_last_delinq']\n",
    "dropped_finance_df = finance_df.drop(columns_to_drop, axis=1)\n"
   ]
  },
  {
   "cell_type": "code",
   "execution_count": 95,
   "metadata": {},
   "outputs": [
    {
     "name": "stdout",
     "output_type": "stream",
     "text": [
      "<class 'pandas.core.frame.DataFrame'>\n",
      "RangeIndex: 54231 entries, 0 to 54230\n",
      "Data columns (total 40 columns):\n",
      " #   Column                      Non-Null Count  Dtype         \n",
      "---  ------                      --------------  -----         \n",
      " 0   id                          54231 non-null  int64         \n",
      " 1   member_id                   54231 non-null  int64         \n",
      " 2   loan_amount                 54231 non-null  int64         \n",
      " 3   funded_amount               54231 non-null  float64       \n",
      " 4   funded_amount_inv           54231 non-null  float64       \n",
      " 5   term                        54231 non-null  float64       \n",
      " 6   int_rate                    54231 non-null  float64       \n",
      " 7   instalment                  54231 non-null  float64       \n",
      " 8   grade                       54231 non-null  object        \n",
      " 9   sub_grade                   54231 non-null  object        \n",
      " 10  employment_length           54231 non-null  float64       \n",
      " 11  home_ownership              54231 non-null  category      \n",
      " 12  annual_inc                  54231 non-null  float64       \n",
      " 13  verification_status         54231 non-null  object        \n",
      " 14  issue_date                  54231 non-null  datetime64[ns]\n",
      " 15  loan_status                 54231 non-null  object        \n",
      " 16  payment_plan                54231 non-null  object        \n",
      " 17  purpose                     54231 non-null  category      \n",
      " 18  dti                         54231 non-null  float64       \n",
      " 19  delinq_2yrs                 54231 non-null  int64         \n",
      " 20  earliest_credit_line        54231 non-null  datetime64[ns]\n",
      " 21  inq_last_6mths              54231 non-null  int64         \n",
      " 22  open_accounts               54231 non-null  int64         \n",
      " 23  total_accounts              54231 non-null  int64         \n",
      " 24  out_prncp                   54231 non-null  float64       \n",
      " 25  out_prncp_inv               54231 non-null  float64       \n",
      " 26  total_payment               54231 non-null  float64       \n",
      " 27  total_payment_inv           54231 non-null  float64       \n",
      " 28  total_rec_prncp             54231 non-null  float64       \n",
      " 29  total_rec_int               54231 non-null  float64       \n",
      " 30  total_rec_late_fee          54231 non-null  float64       \n",
      " 31  recoveries                  54231 non-null  float64       \n",
      " 32  collection_recovery_fee     54231 non-null  float64       \n",
      " 33  last_payment_date           54231 non-null  object        \n",
      " 34  last_payment_amount         54231 non-null  float64       \n",
      " 35  next_payment_date           54231 non-null  object        \n",
      " 36  last_credit_pull_date       54231 non-null  datetime64[ns]\n",
      " 37  collections_12_mths_ex_med  54231 non-null  float64       \n",
      " 38  policy_code                 54231 non-null  int64         \n",
      " 39  application_type            54231 non-null  object        \n",
      "dtypes: category(2), datetime64[ns](3), float64(19), int64(8), object(8)\n",
      "memory usage: 15.8+ MB\n",
      "None\n"
     ]
    }
   ],
   "source": [
    "print(dropped_finance_df.info())"
   ]
  },
  {
   "cell_type": "code",
   "execution_count": 97,
   "metadata": {},
   "outputs": [
    {
     "name": "stdout",
     "output_type": "stream",
     "text": [
      "id                                 0\n",
      "member_id                          0\n",
      "loan_amount                        0\n",
      "funded_amount                   3007\n",
      "funded_amount_inv                  0\n",
      "term                            4772\n",
      "int_rate                        5169\n",
      "instalment                         0\n",
      "grade                              0\n",
      "sub_grade                          0\n",
      "employment_length               2118\n",
      "home_ownership                     0\n",
      "annual_inc                         0\n",
      "verification_status                0\n",
      "issue_date                         0\n",
      "loan_status                        0\n",
      "payment_plan                       0\n",
      "purpose                            0\n",
      "dti                                0\n",
      "delinq_2yrs                        0\n",
      "earliest_credit_line               0\n",
      "inq_last_6mths                     0\n",
      "mths_since_last_delinq         31002\n",
      "mths_since_last_record         48050\n",
      "open_accounts                      0\n",
      "total_accounts                     0\n",
      "out_prncp                          0\n",
      "out_prncp_inv                      0\n",
      "total_payment                      0\n",
      "total_payment_inv                  0\n",
      "total_rec_prncp                    0\n",
      "total_rec_int                      0\n",
      "total_rec_late_fee                 0\n",
      "recoveries                         0\n",
      "collection_recovery_fee            0\n",
      "last_payment_date                 73\n",
      "last_payment_amount                0\n",
      "next_payment_date              32608\n",
      "last_credit_pull_date              7\n",
      "collections_12_mths_ex_med        51\n",
      "mths_since_last_major_derog    46732\n",
      "policy_code                        0\n",
      "application_type                   0\n",
      "dtype: int64\n"
     ]
    }
   ],
   "source": [
    "null_counts = finance_df.isnull().sum()\n",
    "\n",
    "print(null_counts)"
   ]
  },
  {
   "cell_type": "code",
   "execution_count": 94,
   "metadata": {},
   "outputs": [
    {
     "name": "stdout",
     "output_type": "stream",
     "text": [
      "id                            0\n",
      "member_id                     0\n",
      "loan_amount                   0\n",
      "funded_amount                 0\n",
      "funded_amount_inv             0\n",
      "term                          0\n",
      "int_rate                      0\n",
      "instalment                    0\n",
      "grade                         0\n",
      "sub_grade                     0\n",
      "employment_length             0\n",
      "home_ownership                0\n",
      "annual_inc                    0\n",
      "verification_status           0\n",
      "issue_date                    0\n",
      "loan_status                   0\n",
      "payment_plan                  0\n",
      "purpose                       0\n",
      "dti                           0\n",
      "delinq_2yrs                   0\n",
      "earliest_credit_line          0\n",
      "inq_last_6mths                0\n",
      "open_accounts                 0\n",
      "total_accounts                0\n",
      "out_prncp                     0\n",
      "out_prncp_inv                 0\n",
      "total_payment                 0\n",
      "total_payment_inv             0\n",
      "total_rec_prncp               0\n",
      "total_rec_int                 0\n",
      "total_rec_late_fee            0\n",
      "recoveries                    0\n",
      "collection_recovery_fee       0\n",
      "last_payment_date             0\n",
      "last_payment_amount           0\n",
      "next_payment_date             0\n",
      "last_credit_pull_date         0\n",
      "collections_12_mths_ex_med    0\n",
      "policy_code                   0\n",
      "application_type              0\n",
      "dtype: int64\n"
     ]
    }
   ],
   "source": [
    "null_counts = dropped_finance_df.isnull().sum()\n",
    "\n",
    "print(null_counts)"
   ]
  },
  {
   "cell_type": "code",
   "execution_count": 394,
   "metadata": {},
   "outputs": [
    {
     "data": {
      "image/png": "[encoded data removed]",
      "text/plain": [
       "<Figure size 640x480 with 1 Axes>"
      ]
     },
     "metadata": {},
     "output_type": "display_data"
    },
    {
     "data": {
      "image/png": "[encoded data removed]",
      "text/plain": [
       "<Figure size 640x480 with 1 Axes>"
      ]
     },
     "metadata": {},
     "output_type": "display_data"
    },
    {
     "data": {
      "image/png": "[encoded data removed]",
      "text/plain": [
       "<Figure size 640x480 with 1 Axes>"
      ]
     },
     "metadata": {},
     "output_type": "display_data"
    },
    {
     "name": "stdout",
     "output_type": "stream",
     "text": [
      "       annual_inc  Z-Scores\n",
      "43       360000.0  5.578319\n",
      "66       420000.0  6.741361\n",
      "237      275000.0  3.930677\n",
      "252      310000.0  4.609118\n",
      "335      317900.0  4.762252\n",
      "...           ...       ...\n",
      "54107    480000.0  7.904403\n",
      "54148    350000.0  5.384479\n",
      "54184    500000.0  8.292083\n",
      "54226    250000.0  3.446076\n",
      "54228    300000.0  4.415278\n",
      "\n",
      "[627 rows x 2 columns]\n"
     ]
    },
    {
     "data": {
      "image/png": "[encoded data removed]",
      "text/plain": [
       "<Figure size 1000x600 with 1 Axes>"
      ]
     },
     "metadata": {},
     "output_type": "display_data"
    }
   ],
   "source": [
    "from statsmodels.graphics.gofplots import qqplot\n",
    "import matplotlib.pyplot as plt\n",
    "from matplotlib import pyplot\n",
    "import numpy as np\n",
    "\n",
    "\n",
    "class Plotter:\n",
    "    def __init__(self, dataframe) -> None:\n",
    "        self.dataframe = dataframe\n",
    "    \n",
    "    def plot_histogram_of_column(self, column_name):\n",
    "        plt.figure(figsize=(10, 6))\n",
    "        plt.subplot(2, 1, 1)\n",
    "        plt.title(f'Distribution of {column_name}')\n",
    "        self.dataframe[column_name].hist(bins=20, color='blue', alpha=0.7)\n",
    "        plt.xlabel(column_name)\n",
    "        plt.ylabel('Frequency')\n",
    "    \n",
    "    def plot_histogram_of_column_after(self, column_name):\n",
    "        plt.figure(figsize=(10, 6))\n",
    "        plt.subplot(2, 1, 1)\n",
    "        plt.title(f'Distribution of {column_name} After Null Removal')\n",
    "        self.dataframe[column_name].hist(bins=20, color='blue', alpha=0.7)\n",
    "        plt.xlabel(column_name)\n",
    "        plt.ylabel('Frequency')\n",
    "    \n",
    "    def q_plotter(self, column_name):\n",
    "        qq_plot = qqplot(dropped_finance_df[column_name], scale=1, line='q', fit=True)\n",
    "        pyplot.show()\n",
    "    \n",
    "    def identify_skewed_columns(self, threshold=2):\n",
    "        numeric_columns = self.dataframe.select_dtypes(include=['number'])\n",
    "        skewed_columns = numeric_columns.apply(lambda x: x.skew()).sort_values(ascending=False)\n",
    "        skewed_columns = skewed_columns[abs(skewed_columns) > threshold]\n",
    "        return skewed_columns.index.tolist()\n",
    "\n",
    "    def see_outliers_box(self, columnname):\n",
    "        self.dataframe.boxplot(column=columnname)\n",
    "        plt.title(f'Boxplot of outliers in {columnname} column')\n",
    "        plt.show()\n",
    "        \n",
    "    def see_outliers_scatter(self, columnnamex, columnnamey):  \n",
    "        x_column = columnnamex \n",
    "        y_column = columnnamey\n",
    "\n",
    "        plt.scatter(self.dataframe[x_column], self.dataframe[y_column])\n",
    "        plt.xlabel(x_column)\n",
    "        plt.ylabel(y_column)\n",
    "        plt.title(f'Scatter plot to identify outliers in {columnnamey} column')\n",
    "        plt.show()\n",
    "    \n",
    "    def z_scores(self, columnname):\n",
    "        mean_figure = np.mean(self.dataframe[columnname])\n",
    "        std_dev = np.std(self.dataframe[columnname])\n",
    "        z_scores = (self.dataframe[columnname] - mean_figure) / std_dev\n",
    "        dropped_finance_df_z = self.dataframe\n",
    "        dropped_finance_df_z['Z-Scores'] = z_scores\n",
    "        filtered_z_scores_df = dropped_finance_df_z[dropped_finance_df_z['Z-Scores'] > 3]\n",
    "        print(filtered_z_scores_df[[columnname,'Z-Scores']])\n",
    "    \n",
    "    def stacked_bar_chart_column_values(self, columnname):\n",
    "        \"\"\"Returns a stacked bar chart of all values in a column\"\"\"\n",
    "        stacked_data = self.dataframe[columnname].value_counts().reset_index()\n",
    "        stacked_data.columns = [columnname, 'count']\n",
    "\n",
    "        #create dummy column for stacking\n",
    "        stacked_data['dummy'] = 1\n",
    "\n",
    "        stacked_data_pivot = stacked_data.pivot(index='dummy', columns=columnname, values='count').fillna(0)\n",
    "        \n",
    "        stacked_data_pivot.plot(kind='bar', stacked=True, colormap='viridis', legend=True)\n",
    "\n",
    "        plt.xlabel('Dummy')\n",
    "        plt.ylabel('count')\n",
    "        plt.title(f'Stacked Bar chart for {columnname}')\n",
    "\n",
    "        plt.show()\n",
    "    \n",
    "    def line_plot(self, x_column, y_column):\n",
    "        plt.figure(figsize=(10,6))\n",
    "        plt.plot(self.dataframe[x_column], self.dataframe[y_column], marker='o', linestyle='-', color='b')\n",
    "        plt.title('Cumulative Lost Interest over Time')\n",
    "        plt.xlabel('Last Payment Date')\n",
    "        plt.ylabel('Cumulative Lost Interest')\n",
    "        plt.grid(True)\n",
    "        plt.show()\n",
    "\n",
    "\n",
    "\n",
    "\n",
    "plot_before_df = Plotter(finance_df)\n",
    "plot_after_df = Plotter(dropped_finance_df)\n",
    "\n",
    "#plot_before_df.plot_histogram_of_column('funded_amount')\n",
    "#plot_after_df.plot_histogram_of_column('funded_amount')\n",
    "#plot_after_df.q_plotter('funded_amount')\n",
    "#skewed_columns = plot_after_df.identify_skewed_columns()\n",
    "#print(\"Skewed Columns:\", skewed_columns)\n",
    "\n",
    "plot_after_df.see_outliers_box('annual_inc')\n",
    "plot_after_df.see_outliers_box('int_rate')\n",
    "plot_after_df.see_outliers_scatter('loan_amount', 'int_rate')\n",
    "plot_after_df.plot_histogram_of_column('int_rate')\n",
    "plot_after_df.z_scores('annual_inc')\n"
   ]
  },
  {
   "cell_type": "code",
   "execution_count": 183,
   "metadata": {},
   "outputs": [
    {
     "data": {
      "text/plain": [
       "count    54231.000000\n",
       "mean        13.507328\n",
       "std          4.178294\n",
       "min          5.420000\n",
       "25%         10.650000\n",
       "50%         13.507328\n",
       "75%         15.880000\n",
       "max         26.060000\n",
       "Name: int_rate, dtype: float64"
      ]
     },
     "execution_count": 183,
     "metadata": {},
     "output_type": "execute_result"
    }
   ],
   "source": [
    "dropped_finance_df['int_rate'].describe()"
   ]
  },
  {
   "cell_type": "code",
   "execution_count": 336,
   "metadata": {},
   "outputs": [
    {
     "data": {
      "text/plain": [
       "count    52050.000000\n",
       "mean        13.077043\n",
       "std          3.678151\n",
       "min          5.420000\n",
       "25%         10.620000\n",
       "50%         13.507328\n",
       "75%         15.610000\n",
       "max         21.820000\n",
       "Name: int_rate, dtype: float64"
      ]
     },
     "execution_count": 336,
     "metadata": {},
     "output_type": "execute_result"
    }
   ],
   "source": [
    "df_outlier = DataTransform(dropped_finance_df)\n",
    "\n",
    "new_df = df_outlier.remove_outliers_z('int_rate')\n",
    "\n",
    "new_df['int_rate'].describe()"
   ]
  },
  {
   "cell_type": "code",
   "execution_count": 335,
   "metadata": {},
   "outputs": [
    {
     "name": "stdout",
     "output_type": "stream",
     "text": [
      "\n",
      "Value Counts in Column:\n",
      "int_rate\n",
      "13.507328    5169\n",
      "11.990000    1848\n",
      "10.990000    1842\n",
      "12.990000    1609\n",
      "15.610000    1158\n",
      "             ... \n",
      "24.590000       1\n",
      "18.490000       1\n",
      "12.620000       1\n",
      "17.410000       1\n",
      "15.380000       1\n",
      "Name: count, Length: 458, dtype: int64\n",
      "\n",
      "Value Counts in Column:\n",
      "loan_status\n",
      "Charged Off    43611\n",
      "Name: count, dtype: int64\n"
     ]
    }
   ],
   "source": [
    "#use DataFrameInfo class on 'droppeddf\n",
    "classreview = DataFrameInfo(dropped_finance_df)\n",
    "\n",
    "value_counts_column = classreview.get_value_counts('int_rate')\n",
    "print(\"\\nValue Counts in Column:\")\n",
    "print(value_counts_column)\n",
    "\n",
    "classreview2 = DataFrameInfo(new_df)\n",
    "\n",
    "value_counts_column2 = classreview2.get_value_counts('loan_status')\n",
    "print(\"\\nValue Counts in Column:\")\n",
    "print(value_counts_column2)\n"
   ]
  },
  {
   "cell_type": "code",
   "execution_count": 334,
   "metadata": {},
   "outputs": [
    {
     "data": {
      "image/png": "[encoded data removed]",
      "text/plain": [
       "<Figure size 640x480 with 1 Axes>"
      ]
     },
     "metadata": {},
     "output_type": "display_data"
    }
   ],
   "source": [
    "after_outliers_removed = Plotter(new_df)\n",
    "after_outliers_removed.see_outliers_box('int_rate')\n"
   ]
  },
  {
   "cell_type": "code",
   "execution_count": 374,
   "metadata": {},
   "outputs": [],
   "source": [
    "from scipy import stats\n",
    "import numpy as np\n",
    "\n",
    "class DataFrameTransform:\n",
    "    def __init__(self, dataframe) -> None:\n",
    "        self.dataframe = dataframe\n",
    "        \n",
    "\n",
    "    def impute_null_next_payment_date_inplace(self):\n",
    "        column1 = 'last_payment_date'\n",
    "        column2 = 'next_payment_date'\n",
    "        self.dataframe[column2] = self.dataframe.apply(lambda row: row[column1] + pd.offsets.MonthBegin(1) if pd.isnull(row[column2]) else row[column2], axis=1)\n",
    "\n",
    "    def remove_txt(self, column):\n",
    "        \"\"\" \n",
    "        Removes superfluent text from column data\n",
    "        \"\"\"\n",
    "        self.dataframe[column] = pd.to_numeric(self.dataframe[column].str.extract('(\\d+)', expand=False))\n",
    "    \n",
    "    def impute_null_values_mean(self, columnname):\n",
    "        mean_employment_length = self.dataframe[columnname].mean()\n",
    "        self.dataframe[columnname].fillna(mean_employment_length, inplace=True)\n",
    "    \n",
    "    def impute_null_values_median(self, columnname):\n",
    "        median_value = self.dataframe[columnname].median()\n",
    "        self.dataframe[columnname].fillna(median_value, inplace=True)\n",
    "    \n",
    "    def impute_last_credit_pull_date(self):\n",
    "        column1 = 'last_payment_date'\n",
    "        column2 = 'last_credit_pull_date'\n",
    "        self.dataframe[column2] = self.dataframe.apply(lambda row: row[column1] if pd.isnull(row[column2]) else row[column2], axis=1)\n",
    "    \n",
    "    def impute_last_payment_date(self):\n",
    "       self.dataframe['last_payment_date'] = np.where((self.dataframe['last_payment_date'] == '1970-01-01') | (self.dataframe['last_payment_date'].isnull()), self.dataframe['last_credit_pull_date'], self.dataframe['last_payment_date'])\n",
    "    \n",
    "    def correct_date_format(self):\n",
    "       \"\"\"\n",
    "       Converts the date format of all coumns that contain a date\n",
    "       \"\"\"\n",
    "       for column_name in self.dataframe.columns:\n",
    "        if 'date' in column_name.lower():\n",
    "            self.dataframe[column_name] = pd.to_datetime(self.dataframe[column_name])\n",
    "    \n",
    "    def correct_single_date_column(self, column_name):\n",
    "       self.dataframe[column_name] = pd.to_datetime(self.dataframe[column_name])\n",
    "    \n",
    "    def set_data_type(self, column_name):\n",
    "       \"\"\"\n",
    "       converts a column to a specified data type\n",
    "       \"\"\"\n",
    "       self.dataframe[column_name] = self.dataframe[column_name].astype('object')\n",
    "    \n",
    "    def remove_outliers_z(self, columnname):\n",
    "       z_scores = stats.zscore(self.dataframe[columnname])\n",
    "       threshold = 2\n",
    "       outlier_mask = (abs(z_scores) > threshold)\n",
    "       removed_outliers_df = self.dataframe[~outlier_mask]\n",
    "       return removed_outliers_df\n",
    "    \n",
    "    \n",
    "\n",
    "\n",
    "imputed_df = DataFrameTransform(dropped_finance_df)\n",
    "imputed_df.set_data_type('id')\n"
   ]
  },
  {
   "cell_type": "code",
   "execution_count": 326,
   "metadata": {},
   "outputs": [
    {
     "name": "stdout",
     "output_type": "stream",
     "text": [
      "<class 'pandas.core.frame.DataFrame'>\n",
      "RangeIndex: 54231 entries, 0 to 54230\n",
      "Data columns (total 41 columns):\n",
      " #   Column                      Non-Null Count  Dtype         \n",
      "---  ------                      --------------  -----         \n",
      " 0   id                          54231 non-null  object        \n",
      " 1   member_id                   54231 non-null  object        \n",
      " 2   loan_amount                 54231 non-null  int64         \n",
      " 3   funded_amount               54231 non-null  float64       \n",
      " 4   funded_amount_inv           54231 non-null  float64       \n",
      " 5   term                        54231 non-null  float64       \n",
      " 6   int_rate                    54231 non-null  float64       \n",
      " 7   instalment                  54231 non-null  float64       \n",
      " 8   grade                       54231 non-null  object        \n",
      " 9   sub_grade                   54231 non-null  object        \n",
      " 10  employment_length           54231 non-null  float64       \n",
      " 11  home_ownership              54231 non-null  category      \n",
      " 12  annual_inc                  54231 non-null  float64       \n",
      " 13  verification_status         54231 non-null  object        \n",
      " 14  issue_date                  54231 non-null  datetime64[ns]\n",
      " 15  loan_status                 54231 non-null  object        \n",
      " 16  payment_plan                54231 non-null  object        \n",
      " 17  purpose                     54231 non-null  category      \n",
      " 18  dti                         54231 non-null  float64       \n",
      " 19  delinq_2yrs                 54231 non-null  int64         \n",
      " 20  earliest_credit_line        54231 non-null  datetime64[ns]\n",
      " 21  inq_last_6mths              54231 non-null  int64         \n",
      " 22  open_accounts               54231 non-null  int64         \n",
      " 23  total_accounts              54231 non-null  int64         \n",
      " 24  out_prncp                   54231 non-null  float64       \n",
      " 25  out_prncp_inv               54231 non-null  float64       \n",
      " 26  total_payment               54231 non-null  float64       \n",
      " 27  total_payment_inv           54231 non-null  float64       \n",
      " 28  total_rec_prncp             54231 non-null  float64       \n",
      " 29  total_rec_int               54231 non-null  float64       \n",
      " 30  total_rec_late_fee          54231 non-null  float64       \n",
      " 31  recoveries                  54231 non-null  float64       \n",
      " 32  collection_recovery_fee     54231 non-null  float64       \n",
      " 33  last_payment_date           54231 non-null  datetime64[ns]\n",
      " 34  last_payment_amount         54231 non-null  float64       \n",
      " 35  next_payment_date           54231 non-null  datetime64[ns]\n",
      " 36  last_credit_pull_date       54231 non-null  datetime64[ns]\n",
      " 37  collections_12_mths_ex_med  54231 non-null  float64       \n",
      " 38  policy_code                 54231 non-null  int64         \n",
      " 39  application_type            54231 non-null  object        \n",
      " 40  Z-Scores                    54231 non-null  float64       \n",
      "dtypes: category(2), datetime64[ns](5), float64(20), int64(6), object(8)\n",
      "memory usage: 16.2+ MB\n",
      "None\n"
     ]
    }
   ],
   "source": [
    "print(dropped_finance_df.info())"
   ]
  },
  {
   "cell_type": "code",
   "execution_count": 327,
   "metadata": {},
   "outputs": [
    {
     "name": "stdout",
     "output_type": "stream",
     "text": [
      "8.711831033809583\n"
     ]
    },
    {
     "data": {
      "text/plain": [
       "count    5.423100e+04\n",
       "mean     7.222085e+04\n",
       "std      5.158934e+04\n",
       "min      3.300000e+03\n",
       "25%      4.500000e+04\n",
       "50%      6.100000e+04\n",
       "75%      8.600000e+04\n",
       "max      2.039784e+06\n",
       "Name: annual_inc, dtype: float64"
      ]
     },
     "execution_count": 327,
     "metadata": {},
     "output_type": "execute_result"
    }
   ],
   "source": [
    "skew_value = dropped_finance_df['annual_inc'].skew()\n",
    "print(skew_value)\n",
    "\n",
    "dropped_finance_df['annual_inc'].describe()\n",
    "\n",
    "\n"
   ]
  },
  {
   "cell_type": "code",
   "execution_count": 164,
   "metadata": {},
   "outputs": [
    {
     "data": {
      "image/png": "[encoded data removed]",
      "text/plain": [
       "<Figure size 640x480 with 1 Axes>"
      ]
     },
     "metadata": {},
     "output_type": "display_data"
    }
   ],
   "source": [
    "from statsmodels.graphics.gofplots import qqplot\n",
    "from matplotlib import pyplot\n",
    "\n",
    "qq_plot = qqplot(dropped_finance_df['instalment'], scale=1, line='q', fit=True)\n",
    "pyplot.show()"
   ]
  },
  {
   "cell_type": "code",
   "execution_count": 165,
   "metadata": {},
   "outputs": [
    {
     "data": {
      "text/plain": [
       "count    54231.000000\n",
       "mean       400.013953\n",
       "std        238.920012\n",
       "min         15.670000\n",
       "25%        224.205000\n",
       "50%        347.150000\n",
       "75%        527.550000\n",
       "max       1407.010000\n",
       "Name: instalment, dtype: float64"
      ]
     },
     "execution_count": 165,
     "metadata": {},
     "output_type": "execute_result"
    },
    {
     "data": {
      "image/png": "[encoded data removed]",
      "text/plain": [
       "<Figure size 640x480 with 1 Axes>"
      ]
     },
     "metadata": {},
     "output_type": "display_data"
    }
   ],
   "source": [
    "dropped_finance_df['instalment'].hist(bins=50)\n",
    "dropped_finance_df['instalment'].describe()"
   ]
  },
  {
   "cell_type": "code",
   "execution_count": 328,
   "metadata": {},
   "outputs": [
    {
     "name": "stdout",
     "output_type": "stream",
     "text": [
      "Skewed Columns ['collection_recovery_fee', 'collections_12_mths_ex_med', 'recoveries', 'total_rec_late_fee', 'Z-Scores', 'annual_inc', 'delinq_2yrs']\n"
     ]
    }
   ],
   "source": [
    "def identify_skewed_columns(dataframe, threshold=0.5):\n",
    "    numeric_columns = dataframe.select_dtypes(include=['number'])\n",
    "    skewed_columns = numeric_columns.apply(lambda x: x.skew()).sort_values(ascending=False)\n",
    "    skewed_columns = skewed_columns[abs(skewed_columns) > threshold]\n",
    "    return skewed_columns.index.tolist()\n",
    "\n",
    "skewed_list = identify_skewed_columns(dropped_finance_df, threshold=5)\n",
    "print(\"Skewed Columns\", skewed_list)"
   ]
  },
  {
   "cell_type": "code",
   "execution_count": 329,
   "metadata": {},
   "outputs": [
    {
     "data": {
      "text/plain": [
       "<Axes: >"
      ]
     },
     "execution_count": 329,
     "metadata": {},
     "output_type": "execute_result"
    },
    {
     "data": {
      "image/png": "[encoded data removed]",
      "text/plain": [
       "<Figure size 640x480 with 1 Axes>"
      ]
     },
     "metadata": {},
     "output_type": "display_data"
    }
   ],
   "source": [
    "import numpy as np\n",
    "log_annual_inc = dropped_finance_df['annual_inc']. map(lambda i: np.log(i) if i > 0 else 0)\n",
    "log_annual_inc.hist(bins=50)\n"
   ]
  },
  {
   "cell_type": "code",
   "execution_count": 330,
   "metadata": {},
   "outputs": [
    {
     "data": {
      "text/plain": [
       "<Axes: >"
      ]
     },
     "execution_count": 330,
     "metadata": {},
     "output_type": "execute_result"
    },
    {
     "data": {
      "image/png": "[encoded data removed]",
      "text/plain": [
       "<Figure size 640x480 with 1 Axes>"
      ]
     },
     "metadata": {},
     "output_type": "display_data"
    }
   ],
   "source": [
    "import numpy as np\n",
    "log_instalment = dropped_finance_df['instalment']. map(lambda i: np.log(i) if i > 0 else 0)\n",
    "log_instalment.hist(bins=50)\n"
   ]
  },
  {
   "cell_type": "code",
   "execution_count": 331,
   "metadata": {},
   "outputs": [],
   "source": [
    "remove_outliers = DataFrameTransform(new_df)\n",
    "new_df = remove_outliers.remove_outliers_z('instalment')\n",
    "\n"
   ]
  },
  {
   "cell_type": "code",
   "execution_count": 332,
   "metadata": {},
   "outputs": [
    {
     "name": "stdout",
     "output_type": "stream",
     "text": [
      "<class 'pandas.core.frame.DataFrame'>\n",
      "Index: 43611 entries, 0 to 54230\n",
      "Data columns (total 43 columns):\n",
      " #   Column                      Non-Null Count  Dtype         \n",
      "---  ------                      --------------  -----         \n",
      " 0   id                          43611 non-null  object        \n",
      " 1   member_id                   43611 non-null  object        \n",
      " 2   loan_amount                 43611 non-null  int64         \n",
      " 3   funded_amount               43611 non-null  float64       \n",
      " 4   funded_amount_inv           43611 non-null  float64       \n",
      " 5   term                        43611 non-null  float64       \n",
      " 6   int_rate                    43611 non-null  float64       \n",
      " 7   instalment                  43611 non-null  float64       \n",
      " 8   grade                       43611 non-null  object        \n",
      " 9   sub_grade                   43611 non-null  object        \n",
      " 10  employment_length           43611 non-null  float64       \n",
      " 11  home_ownership              43611 non-null  category      \n",
      " 12  annual_inc                  43611 non-null  float64       \n",
      " 13  verification_status         43611 non-null  object        \n",
      " 14  issue_date                  43611 non-null  datetime64[ns]\n",
      " 15  loan_status                 43611 non-null  object        \n",
      " 16  payment_plan                43611 non-null  object        \n",
      " 17  purpose                     43611 non-null  category      \n",
      " 18  dti                         43611 non-null  float64       \n",
      " 19  delinq_2yrs                 43611 non-null  int64         \n",
      " 20  earliest_credit_line        43611 non-null  datetime64[ns]\n",
      " 21  inq_last_6mths              43611 non-null  int64         \n",
      " 22  open_accounts               43611 non-null  int64         \n",
      " 23  total_accounts              43611 non-null  int64         \n",
      " 24  out_prncp                   43611 non-null  float64       \n",
      " 25  out_prncp_inv               43611 non-null  float64       \n",
      " 26  total_payment               43611 non-null  float64       \n",
      " 27  total_payment_inv           43611 non-null  float64       \n",
      " 28  total_rec_prncp             43611 non-null  float64       \n",
      " 29  total_rec_int               43611 non-null  float64       \n",
      " 30  total_rec_late_fee          43611 non-null  float64       \n",
      " 31  recoveries                  43611 non-null  float64       \n",
      " 32  collection_recovery_fee     43611 non-null  float64       \n",
      " 33  last_payment_date           43611 non-null  datetime64[ns]\n",
      " 34  last_payment_amount         43611 non-null  float64       \n",
      " 35  next_payment_date           43611 non-null  datetime64[ns]\n",
      " 36  last_credit_pull_date       43611 non-null  datetime64[ns]\n",
      " 37  collections_12_mths_ex_med  43611 non-null  float64       \n",
      " 38  policy_code                 43611 non-null  int64         \n",
      " 39  application_type            43611 non-null  object        \n",
      " 40  Z-Scores                    43611 non-null  float64       \n",
      " 41  total_received_6months      43611 non-null  float64       \n",
      " 42  status_in_6months           43611 non-null  object        \n",
      "dtypes: category(2), datetime64[ns](5), float64(21), int64(6), object(9)\n",
      "memory usage: 14.1+ MB\n"
     ]
    }
   ],
   "source": [
    "new_df.info()"
   ]
  },
  {
   "cell_type": "markdown",
   "metadata": {},
   "source": [
    "The following code attempts to save the latest dataframe as a .h5 file, so that it maintains the applied datatypes"
   ]
  },
  {
   "cell_type": "code",
   "execution_count": 219,
   "metadata": {},
   "outputs": [
    {
     "name": "stderr",
     "output_type": "stream",
     "text": [
      "C:\\Users\\Tom\\AppData\\Local\\Temp\\ipykernel_15648\\1918953095.py:2: SettingWithCopyWarning:\n",
      "\n",
      "\n",
      "A value is trying to be set on a copy of a slice from a DataFrame.\n",
      "Try using .loc[row_indexer,col_indexer] = value instead\n",
      "\n",
      "See the caveats in the documentation: https://pandas.pydata.org/pandas-docs/stable/user_guide/indexing.html#returning-a-view-versus-a-copy\n",
      "\n"
     ]
    }
   ],
   "source": [
    "#object_columns = new_df.select_dtypes(include=['object']).columns\n",
    "#new_df[object_columns] = new_df[object_columns].astype(str)\n",
    "\n",
    "#new_df.to_hdf('latest_df_with_dtypes.h5', key='data', mode='w', format='table')"
   ]
  },
  {
   "cell_type": "markdown",
   "metadata": {},
   "source": [
    "MILESTONE 4 is captured below this Markdown:"
   ]
  },
  {
   "cell_type": "code",
   "execution_count": 224,
   "metadata": {},
   "outputs": [],
   "source": [
    "\"\"\" Opens up the dataframe that was saved after deleting columns with high correlation\"\"\"\n",
    "\n",
    "m4_df = pd.read_hdf('colinea_dropped_df.h5', key='data')"
   ]
  },
  {
   "cell_type": "code",
   "execution_count": 325,
   "metadata": {},
   "outputs": [
    {
     "data": {
      "text/html": [
       "<div>\n",
       "<style scoped>\n",
       "    .dataframe tbody tr th:only-of-type {\n",
       "        vertical-align: middle;\n",
       "    }\n",
       "\n",
       "    .dataframe tbody tr th {\n",
       "        vertical-align: top;\n",
       "    }\n",
       "\n",
       "    .dataframe thead th {\n",
       "        text-align: right;\n",
       "    }\n",
       "</style>\n",
       "<table border=\"1\" class=\"dataframe\">\n",
       "  <thead>\n",
       "    <tr style=\"text-align: right;\">\n",
       "      <th></th>\n",
       "      <th>instalment</th>\n",
       "      <th>loan_amount</th>\n",
       "      <th>out_prncp</th>\n",
       "      <th>out_prncp_inv</th>\n",
       "      <th>total_payment</th>\n",
       "      <th>total_rec_int</th>\n",
       "      <th>loan_status</th>\n",
       "    </tr>\n",
       "  </thead>\n",
       "  <tbody>\n",
       "    <tr>\n",
       "      <th>0</th>\n",
       "      <td>248.82</td>\n",
       "      <td>8000</td>\n",
       "      <td>5529.70</td>\n",
       "      <td>5529.70</td>\n",
       "      <td>2982.51</td>\n",
       "      <td>512.21</td>\n",
       "      <td>Charged Off</td>\n",
       "    </tr>\n",
       "    <tr>\n",
       "      <th>1</th>\n",
       "      <td>407.52</td>\n",
       "      <td>13200</td>\n",
       "      <td>9102.83</td>\n",
       "      <td>9102.83</td>\n",
       "      <td>4885.11</td>\n",
       "      <td>787.94</td>\n",
       "      <td>Charged Off</td>\n",
       "    </tr>\n",
       "    <tr>\n",
       "      <th>2</th>\n",
       "      <td>497.63</td>\n",
       "      <td>16000</td>\n",
       "      <td>0.00</td>\n",
       "      <td>0.00</td>\n",
       "      <td>16824.54</td>\n",
       "      <td>824.54</td>\n",
       "      <td>Charged Off</td>\n",
       "    </tr>\n",
       "    <tr>\n",
       "      <th>3</th>\n",
       "      <td>514.93</td>\n",
       "      <td>15000</td>\n",
       "      <td>0.00</td>\n",
       "      <td>0.00</td>\n",
       "      <td>15947.47</td>\n",
       "      <td>947.47</td>\n",
       "      <td>Charged Off</td>\n",
       "    </tr>\n",
       "    <tr>\n",
       "      <th>4</th>\n",
       "      <td>456.54</td>\n",
       "      <td>15000</td>\n",
       "      <td>10297.47</td>\n",
       "      <td>10297.47</td>\n",
       "      <td>5473.46</td>\n",
       "      <td>770.93</td>\n",
       "      <td>Charged Off</td>\n",
       "    </tr>\n",
       "  </tbody>\n",
       "</table>\n",
       "</div>"
      ],
      "text/plain": [
       "   instalment  loan_amount  out_prncp  out_prncp_inv  total_payment  \\\n",
       "0      248.82         8000    5529.70        5529.70        2982.51   \n",
       "1      407.52        13200    9102.83        9102.83        4885.11   \n",
       "2      497.63        16000       0.00           0.00       16824.54   \n",
       "3      514.93        15000       0.00           0.00       15947.47   \n",
       "4      456.54        15000   10297.47       10297.47        5473.46   \n",
       "\n",
       "   total_rec_int  loan_status  \n",
       "0         512.21  Charged Off  \n",
       "1         787.94  Charged Off  \n",
       "2         824.54  Charged Off  \n",
       "3         947.47  Charged Off  \n",
       "4         770.93  Charged Off  "
      ]
     },
     "execution_count": 325,
     "metadata": {},
     "output_type": "execute_result"
    }
   ],
   "source": [
    "new_df[['instalment', 'loan_amount', 'out_prncp', 'out_prncp_inv', 'total_payment', 'total_rec_int', 'loan_status']].head()\n"
   ]
  },
  {
   "cell_type": "code",
   "execution_count": 274,
   "metadata": {},
   "outputs": [
    {
     "data": {
      "text/html": [
       "<div>\n",
       "<style scoped>\n",
       "    .dataframe tbody tr th:only-of-type {\n",
       "        vertical-align: middle;\n",
       "    }\n",
       "\n",
       "    .dataframe tbody tr th {\n",
       "        vertical-align: top;\n",
       "    }\n",
       "\n",
       "    .dataframe thead th {\n",
       "        text-align: right;\n",
       "    }\n",
       "</style>\n",
       "<table border=\"1\" class=\"dataframe\">\n",
       "  <thead>\n",
       "    <tr style=\"text-align: right;\">\n",
       "      <th></th>\n",
       "      <th>loan_amount</th>\n",
       "      <th>out_prncp</th>\n",
       "      <th>out_prncp_inv</th>\n",
       "      <th>total_payment</th>\n",
       "      <th>total_rec_int</th>\n",
       "      <th>loan_status</th>\n",
       "    </tr>\n",
       "  </thead>\n",
       "  <tbody>\n",
       "    <tr>\n",
       "      <th>0</th>\n",
       "      <td>8000</td>\n",
       "      <td>5529.70</td>\n",
       "      <td>5529.70</td>\n",
       "      <td>2982.51</td>\n",
       "      <td>512.21</td>\n",
       "      <td>Current</td>\n",
       "    </tr>\n",
       "    <tr>\n",
       "      <th>1</th>\n",
       "      <td>13200</td>\n",
       "      <td>9102.83</td>\n",
       "      <td>9102.83</td>\n",
       "      <td>4885.11</td>\n",
       "      <td>787.94</td>\n",
       "      <td>Current</td>\n",
       "    </tr>\n",
       "    <tr>\n",
       "      <th>2</th>\n",
       "      <td>16000</td>\n",
       "      <td>0.00</td>\n",
       "      <td>0.00</td>\n",
       "      <td>16824.54</td>\n",
       "      <td>824.54</td>\n",
       "      <td>Fully Paid</td>\n",
       "    </tr>\n",
       "    <tr>\n",
       "      <th>3</th>\n",
       "      <td>15000</td>\n",
       "      <td>0.00</td>\n",
       "      <td>0.00</td>\n",
       "      <td>15947.47</td>\n",
       "      <td>947.47</td>\n",
       "      <td>Fully Paid</td>\n",
       "    </tr>\n",
       "    <tr>\n",
       "      <th>4</th>\n",
       "      <td>15000</td>\n",
       "      <td>10297.47</td>\n",
       "      <td>10297.47</td>\n",
       "      <td>5473.46</td>\n",
       "      <td>770.93</td>\n",
       "      <td>Current</td>\n",
       "    </tr>\n",
       "  </tbody>\n",
       "</table>\n",
       "</div>"
      ],
      "text/plain": [
       "   loan_amount  out_prncp  out_prncp_inv  total_payment  total_rec_int  \\\n",
       "0         8000    5529.70        5529.70        2982.51         512.21   \n",
       "1        13200    9102.83        9102.83        4885.11         787.94   \n",
       "2        16000       0.00           0.00       16824.54         824.54   \n",
       "3        15000       0.00           0.00       15947.47         947.47   \n",
       "4        15000   10297.47       10297.47        5473.46         770.93   \n",
       "\n",
       "  loan_status  \n",
       "0     Current  \n",
       "1     Current  \n",
       "2  Fully Paid  \n",
       "3  Fully Paid  \n",
       "4     Current  "
      ]
     },
     "execution_count": 274,
     "metadata": {},
     "output_type": "execute_result"
    }
   ],
   "source": [
    "m4_df[['loan_amount', 'out_prncp', 'out_prncp_inv', 'total_payment', 'total_rec_int', 'loan_status']].head()"
   ]
  },
  {
   "cell_type": "code",
   "execution_count": 260,
   "metadata": {},
   "outputs": [
    {
     "name": "stdout",
     "output_type": "stream",
     "text": [
      "The percentage of loans fully repaid is  51.58%\n"
     ]
    },
    {
     "data": {
      "image/png": "[encoded data removed]",
      "text/plain": [
       "<Figure size 640x480 with 1 Axes>"
      ]
     },
     "metadata": {},
     "output_type": "display_data"
    }
   ],
   "source": [
    "\"\"\"Task One, part one - Current State of Loans\"\"\"\n",
    "#Calculate the percentage of loans that are fully paid\n",
    "\n",
    "m4info = DataFrameInfo(m4_df)\n",
    "recovered_loans = m4info.get_value_counts('loan_status')['Fully Paid']\n",
    "recovered_loans\n",
    "percentage_fully_recovered = (recovered_loans / len(m4_df)) * 100\n",
    "print(f\"The percentage of loans fully repaid is {percentage_fully_recovered: .2f}%\")\n",
    "\n",
    "m4plots = Plotter(m4_df)\n",
    "m4plots.stacked_bar_chart_column_values('loan_status')\n",
    "\n",
    "\n"
   ]
  },
  {
   "cell_type": "code",
   "execution_count": 342,
   "metadata": {},
   "outputs": [
    {
     "name": "stderr",
     "output_type": "stream",
     "text": [
      "C:\\Users\\Tom\\AppData\\Local\\Temp\\ipykernel_15648\\3577426161.py:4: SettingWithCopyWarning:\n",
      "\n",
      "\n",
      "A value is trying to be set on a copy of a slice from a DataFrame.\n",
      "Try using .loc[row_indexer,col_indexer] = value instead\n",
      "\n",
      "See the caveats in the documentation: https://pandas.pydata.org/pandas-docs/stable/user_guide/indexing.html#returning-a-view-versus-a-copy\n",
      "\n"
     ]
    },
    {
     "data": {
      "text/html": [
       "<div>\n",
       "<style scoped>\n",
       "    .dataframe tbody tr th:only-of-type {\n",
       "        vertical-align: middle;\n",
       "    }\n",
       "\n",
       "    .dataframe tbody tr th {\n",
       "        vertical-align: top;\n",
       "    }\n",
       "\n",
       "    .dataframe thead th {\n",
       "        text-align: right;\n",
       "    }\n",
       "</style>\n",
       "<table border=\"1\" class=\"dataframe\">\n",
       "  <thead>\n",
       "    <tr style=\"text-align: right;\">\n",
       "      <th></th>\n",
       "      <th>instalment</th>\n",
       "      <th>loan_amount</th>\n",
       "      <th>out_prncp</th>\n",
       "      <th>out_prncp_inv</th>\n",
       "      <th>total_payment</th>\n",
       "      <th>total_rec_int</th>\n",
       "      <th>loan_status</th>\n",
       "      <th>total_received_6months</th>\n",
       "    </tr>\n",
       "  </thead>\n",
       "  <tbody>\n",
       "    <tr>\n",
       "      <th>0</th>\n",
       "      <td>248.82</td>\n",
       "      <td>8000</td>\n",
       "      <td>5529.70</td>\n",
       "      <td>5529.70</td>\n",
       "      <td>2982.51</td>\n",
       "      <td>512.21</td>\n",
       "      <td>Current</td>\n",
       "      <td>4475.43</td>\n",
       "    </tr>\n",
       "    <tr>\n",
       "      <th>1</th>\n",
       "      <td>407.52</td>\n",
       "      <td>13200</td>\n",
       "      <td>9102.83</td>\n",
       "      <td>9102.83</td>\n",
       "      <td>4885.11</td>\n",
       "      <td>787.94</td>\n",
       "      <td>Current</td>\n",
       "      <td>7330.23</td>\n",
       "    </tr>\n",
       "    <tr>\n",
       "      <th>2</th>\n",
       "      <td>497.63</td>\n",
       "      <td>16000</td>\n",
       "      <td>0.00</td>\n",
       "      <td>0.00</td>\n",
       "      <td>16824.54</td>\n",
       "      <td>824.54</td>\n",
       "      <td>Fully Paid</td>\n",
       "      <td>19810.32</td>\n",
       "    </tr>\n",
       "    <tr>\n",
       "      <th>3</th>\n",
       "      <td>514.93</td>\n",
       "      <td>15000</td>\n",
       "      <td>0.00</td>\n",
       "      <td>0.00</td>\n",
       "      <td>15947.47</td>\n",
       "      <td>947.47</td>\n",
       "      <td>Fully Paid</td>\n",
       "      <td>19037.05</td>\n",
       "    </tr>\n",
       "    <tr>\n",
       "      <th>4</th>\n",
       "      <td>456.54</td>\n",
       "      <td>15000</td>\n",
       "      <td>10297.47</td>\n",
       "      <td>10297.47</td>\n",
       "      <td>5473.46</td>\n",
       "      <td>770.93</td>\n",
       "      <td>Current</td>\n",
       "      <td>8212.70</td>\n",
       "    </tr>\n",
       "  </tbody>\n",
       "</table>\n",
       "</div>"
      ],
      "text/plain": [
       "   instalment  loan_amount  out_prncp  out_prncp_inv  total_payment  \\\n",
       "0      248.82         8000    5529.70        5529.70        2982.51   \n",
       "1      407.52        13200    9102.83        9102.83        4885.11   \n",
       "2      497.63        16000       0.00           0.00       16824.54   \n",
       "3      514.93        15000       0.00           0.00       15947.47   \n",
       "4      456.54        15000   10297.47       10297.47        5473.46   \n",
       "\n",
       "   total_rec_int loan_status  total_received_6months  \n",
       "0         512.21     Current                 4475.43  \n",
       "1         787.94     Current                 7330.23  \n",
       "2         824.54  Fully Paid                19810.32  \n",
       "3         947.47  Fully Paid                19037.05  \n",
       "4         770.93     Current                 8212.70  "
      ]
     },
     "execution_count": 342,
     "metadata": {},
     "output_type": "execute_result"
    }
   ],
   "source": [
    "\"\"\"Task One, part 2 - 6 months later\"\"\"\n",
    "#Need to revert to 'new_df' as colinearity task removed key columns needed to calc position in 6 months\n",
    "\n",
    "new_df['total_received_6months'] = new_df['total_payment'] + (new_df['instalment'] * 6)\n",
    "\n",
    "new_df[['instalment', 'loan_amount', 'out_prncp', 'out_prncp_inv', 'total_payment', 'total_rec_int', 'loan_status', 'total_received_6months']].head()\n",
    "\n",
    "\n",
    "\n"
   ]
  },
  {
   "cell_type": "code",
   "execution_count": 343,
   "metadata": {},
   "outputs": [
    {
     "name": "stderr",
     "output_type": "stream",
     "text": [
      "C:\\Users\\Tom\\AppData\\Local\\Temp\\ipykernel_15648\\42135265.py:8: SettingWithCopyWarning:\n",
      "\n",
      "\n",
      "A value is trying to be set on a copy of a slice from a DataFrame.\n",
      "Try using .loc[row_indexer,col_indexer] = value instead\n",
      "\n",
      "See the caveats in the documentation: https://pandas.pydata.org/pandas-docs/stable/user_guide/indexing.html#returning-a-view-versus-a-copy\n",
      "\n"
     ]
    }
   ],
   "source": [
    "#apply a new status for loans fully recovered in 6 months\n",
    "def determine_status(row):\n",
    "    if row['total_received_6months'] >= row['loan_amount']:\n",
    "        return 'Fully Paid'\n",
    "    else:\n",
    "        return row['loan_status']\n",
    "\n",
    "new_df['status_in_6months'] = new_df.apply(determine_status, axis=1)"
   ]
  },
  {
   "cell_type": "code",
   "execution_count": 344,
   "metadata": {},
   "outputs": [
    {
     "name": "stdout",
     "output_type": "stream",
     "text": [
      "In 6 months the percentage of loans fully repaid is  85.00%\n"
     ]
    },
    {
     "data": {
      "image/png": "[encoded data removed]",
      "text/plain": [
       "<Figure size 640x480 with 1 Axes>"
      ]
     },
     "metadata": {},
     "output_type": "display_data"
    }
   ],
   "source": [
    "new_df_6months = new_df\n",
    "\n",
    "m4info_6months = DataFrameInfo(new_df_6months)\n",
    "recovered_loans_6months = m4info_6months.get_value_counts('status_in_6months')['Fully Paid']\n",
    "recovered_loans_6months\n",
    "percentage_fully_recovered_6months = (recovered_loans_6months / len(m4_df)) * 100\n",
    "print(f\"In 6 months the percentage of loans fully repaid is {percentage_fully_recovered_6months: .2f}%\")\n",
    "\n",
    "m4plots_6months = Plotter(new_df_6months)\n",
    "m4plots_6months.stacked_bar_chart_column_values('status_in_6months')"
   ]
  },
  {
   "cell_type": "code",
   "execution_count": 345,
   "metadata": {},
   "outputs": [
    {
     "name": "stdout",
     "output_type": "stream",
     "text": [
      "The percentage of loans charged off is  10.03%\n"
     ]
    }
   ],
   "source": [
    "\"\"\"Task Two, part one - Charged off Loans\"\"\"\n",
    "#Calculate the percentage of loans that are cgarged off\n",
    "\n",
    "m4info = DataFrameInfo(m4_df)\n",
    "co_loans = m4info.get_value_counts('loan_status')['Charged Off']\n",
    "co_loans\n",
    "percentage_chargedoff = (co_loans / len(m4_df)) * 100\n",
    "print(f\"The percentage of loans charged off is {percentage_chargedoff: .2f}%\")"
   ]
  },
  {
   "cell_type": "code",
   "execution_count": 349,
   "metadata": {},
   "outputs": [
    {
     "name": "stdout",
     "output_type": "stream",
     "text": [
      "The total value of payments received against charged off loans is £ 37400589\n",
      "The total value of charged off loans is £ 76359400\n",
      "Therefore the loss on these loans is £ 38958811\n"
     ]
    }
   ],
   "source": [
    "\"\"\"Task Two part two, payments received against charged off loans\"\"\"\n",
    "\n",
    "#First filter the loans to only charged off loans\n",
    "co_df = dropped_finance_df\n",
    "co_df_filtered = co_df[co_df['loan_status'] == 'Charged Off']\n",
    "\n",
    "#Next, return the total payments received in this filtered df\n",
    "\n",
    "co_payments_received = co_df_filtered['total_payment'].sum()\n",
    "print(f\"The total value of payments received against charged off loans is £{co_payments_received: .0f}\")\n",
    "co_loans_written = co_df_filtered['loan_amount'].sum()\n",
    "print(f\"The total value of charged off loans is £{co_loans_written: .0f}\")\n",
    "print(f\"Therefore the loss on these loans is £{co_loans_written - co_payments_received: .0f}\")\n",
    "\n",
    "\n",
    "\n"
   ]
  },
  {
   "cell_type": "code",
   "execution_count": 370,
   "metadata": {},
   "outputs": [
    {
     "name": "stdout",
     "output_type": "stream",
     "text": [
      "The total value of lost revenue on charged off loans is projected to be £ 13152874\n"
     ]
    }
   ],
   "source": [
    "\"\"\"Task 3, projected loss\"\"\"\n",
    "\n",
    "#Revenue = interest charged, total interest = instalments * term, less loan amount. Lost revenue = total interest - total received interest\n",
    "\n",
    "co_df_filtered['lost_interest'] = ((co_df_filtered['instalment'] * co_df_filtered['term']) - co_df_filtered['loan_amount']) - co_df_filtered['total_rec_int']\n",
    "Lost_Interest_revenue = co_df_filtered['lost_interest'].sum()\n",
    "print(f\"The total value of lost revenue on charged off loans is projected to be £{Lost_Interest_revenue: .0f}\")\n",
    "\n",
    "#Get remaining term\n",
    "co_df_filtered['spent_term'] = co_df_filtered['last_payment_date'] - co_df_filtered['issue_date']\n",
    "\n",
    "\n",
    "\n"
   ]
  },
  {
   "cell_type": "code",
   "execution_count": 380,
   "metadata": {},
   "outputs": [],
   "source": [
    "#impute blank /0 last payment dates\n",
    "\n",
    "charge_off_df = DataFrameTransform(co_df_filtered)\n",
    "charge_off_df.impute_last_payment_date()\n",
    "\n",
    "#sort by last payment date == date loss is realised\n",
    "co_df_filtered = co_df_filtered.sort_values(by= 'last_payment_date')"
   ]
  },
  {
   "cell_type": "code",
   "execution_count": 388,
   "metadata": {},
   "outputs": [],
   "source": [
    "\n",
    "#include cumulative lost interest:\n",
    "\n",
    "co_df_filtered['cumulative_lost_interest'] = co_df_filtered['lost_interest'].cumsum()\n",
    "\n",
    "\n",
    "\n"
   ]
  },
  {
   "cell_type": "code",
   "execution_count": 389,
   "metadata": {},
   "outputs": [
    {
     "data": {
      "text/html": [
       "<div>\n",
       "<style scoped>\n",
       "    .dataframe tbody tr th:only-of-type {\n",
       "        vertical-align: middle;\n",
       "    }\n",
       "\n",
       "    .dataframe tbody tr th {\n",
       "        vertical-align: top;\n",
       "    }\n",
       "\n",
       "    .dataframe thead th {\n",
       "        text-align: right;\n",
       "    }\n",
       "</style>\n",
       "<table border=\"1\" class=\"dataframe\">\n",
       "  <thead>\n",
       "    <tr style=\"text-align: right;\">\n",
       "      <th></th>\n",
       "      <th>lost_interest</th>\n",
       "      <th>cumulative_lost_interest</th>\n",
       "    </tr>\n",
       "  </thead>\n",
       "  <tbody>\n",
       "    <tr>\n",
       "      <th>53686</th>\n",
       "      <td>1914.70</td>\n",
       "      <td>1914.70</td>\n",
       "    </tr>\n",
       "    <tr>\n",
       "      <th>54124</th>\n",
       "      <td>1228.18</td>\n",
       "      <td>3142.88</td>\n",
       "    </tr>\n",
       "    <tr>\n",
       "      <th>54086</th>\n",
       "      <td>271.44</td>\n",
       "      <td>3414.32</td>\n",
       "    </tr>\n",
       "    <tr>\n",
       "      <th>54110</th>\n",
       "      <td>268.97</td>\n",
       "      <td>3683.29</td>\n",
       "    </tr>\n",
       "    <tr>\n",
       "      <th>53864</th>\n",
       "      <td>3209.42</td>\n",
       "      <td>6892.71</td>\n",
       "    </tr>\n",
       "    <tr>\n",
       "      <th>...</th>\n",
       "      <td>...</td>\n",
       "      <td>...</td>\n",
       "    </tr>\n",
       "    <tr>\n",
       "      <th>50188</th>\n",
       "      <td>1062.68</td>\n",
       "      <td>13147540.28</td>\n",
       "    </tr>\n",
       "    <tr>\n",
       "      <th>13807</th>\n",
       "      <td>554.16</td>\n",
       "      <td>13148094.44</td>\n",
       "    </tr>\n",
       "    <tr>\n",
       "      <th>40557</th>\n",
       "      <td>1372.00</td>\n",
       "      <td>13149466.44</td>\n",
       "    </tr>\n",
       "    <tr>\n",
       "      <th>27503</th>\n",
       "      <td>2456.32</td>\n",
       "      <td>13151922.76</td>\n",
       "    </tr>\n",
       "    <tr>\n",
       "      <th>15297</th>\n",
       "      <td>950.88</td>\n",
       "      <td>13152873.64</td>\n",
       "    </tr>\n",
       "  </tbody>\n",
       "</table>\n",
       "<p>5571 rows × 2 columns</p>\n",
       "</div>"
      ],
      "text/plain": [
       "       lost_interest  cumulative_lost_interest\n",
       "53686        1914.70                   1914.70\n",
       "54124        1228.18                   3142.88\n",
       "54086         271.44                   3414.32\n",
       "54110         268.97                   3683.29\n",
       "53864        3209.42                   6892.71\n",
       "...              ...                       ...\n",
       "50188        1062.68               13147540.28\n",
       "13807         554.16               13148094.44\n",
       "40557        1372.00               13149466.44\n",
       "27503        2456.32               13151922.76\n",
       "15297         950.88               13152873.64\n",
       "\n",
       "[5571 rows x 2 columns]"
      ]
     },
     "execution_count": 389,
     "metadata": {},
     "output_type": "execute_result"
    }
   ],
   "source": [
    "co_df_filtered[['lost_interest', 'cumulative_lost_interest']]"
   ]
  },
  {
   "cell_type": "code",
   "execution_count": 396,
   "metadata": {},
   "outputs": [
    {
     "data": {
      "image/png": "[encoded data removed]",
      "text/plain": [
       "<Figure size 1000x600 with 1 Axes>"
      ]
     },
     "metadata": {},
     "output_type": "display_data"
    }
   ],
   "source": [
    "co_plot = Plotter(co_df_filtered)\n",
    "co_plot.line_plot('last_payment_date', 'cumulative_lost_interest')"
   ]
  },
  {
   "cell_type": "markdown",
   "metadata": {},
   "source": [
    "Task 4 - Possible Loss"
   ]
  },
  {
   "cell_type": "code",
   "execution_count": 404,
   "metadata": {},
   "outputs": [
    {
     "data": {
      "text/plain": [
       "array(['Current', 'Fully Paid', 'Late (31-120 days)', 'Charged Off',\n",
       "       'In Grace Period', 'Late (16-30 days)', 'Default',\n",
       "       'Does not meet the credit policy. Status:Fully Paid',\n",
       "       'Does not meet the credit policy. Status:Charged Off'],\n",
       "      dtype=object)"
      ]
     },
     "execution_count": 404,
     "metadata": {},
     "output_type": "execute_result"
    }
   ],
   "source": [
    "m4_df['loan_status'].unique()"
   ]
  },
  {
   "cell_type": "code",
   "execution_count": 417,
   "metadata": {},
   "outputs": [
    {
     "name": "stdout",
     "output_type": "stream",
     "text": [
      "Late cusotmers account for  1% of all loans\n"
     ]
    },
    {
     "data": {
      "text/plain": [
       "loan_status\n",
       "Fully Paid                                             23107\n",
       "Current                                                15233\n",
       "Charged Off                                             4494\n",
       "Does not meet the credit policy. Status:Fully Paid       870\n",
       "Late (31-120 days)                                       441\n",
       "Does not meet the credit policy. Status:Charged Off      326\n",
       "In Grace Period                                          203\n",
       "Late (16-30 days)                                         83\n",
       "Default                                                   41\n",
       "Name: count, dtype: int64"
      ]
     },
     "execution_count": 417,
     "metadata": {},
     "output_type": "execute_result"
    }
   ],
   "source": [
    "late_customers = (m4_df[m4_df['loan_status'] == 'Late (31-120 days)'].shape[0]) + (m4_df[m4_df['loan_status'] == 'Late (16-30 days)'].shape[0])\n",
    "late_percentage = ((late_customers) / (len(m4_df))) * 100\n",
    "print(f\"Late cusotmers account for {late_percentage: .0f}% of all loans\")\n",
    "\n",
    "m4_df['loan_status'].value_counts()\n",
    "\n",
    "\n"
   ]
  }
 ],
 "metadata": {
  "kernelspec": {
   "display_name": "base",
   "language": "python",
   "name": "python3"
  },
  "language_info": {
   "codemirror_mode": {
    "name": "ipython",
    "version": 3
   },
   "file_extension": ".py",
   "mimetype": "text/x-python",
   "name": "python",
   "nbconvert_exporter": "python",
   "pygments_lexer": "ipython3",
   "version": "3.11.5"
  }
 },
 "nbformat": 4,
 "nbformat_minor": 2
}
