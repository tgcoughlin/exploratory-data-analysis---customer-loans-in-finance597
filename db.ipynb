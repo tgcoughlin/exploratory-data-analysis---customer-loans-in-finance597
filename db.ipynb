{
 "cells": [
  {
   "cell_type": "markdown",
   "metadata": {},
   "source": [
    "Load the data"
   ]
  },
  {
   "cell_type": "code",
   "execution_count": 5,
   "metadata": {},
   "outputs": [
    {
     "name": "stdout",
     "output_type": "stream",
     "text": [
      "         id  member_id  loan_amount  funded_amount  funded_amount_inv  \\\n",
      "0  38676116   41461848         8000         8000.0             8000.0   \n",
      "1  38656203   41440010        13200        13200.0            13200.0   \n",
      "2  38656154   41439961        16000        16000.0            16000.0   \n",
      "3  38656128   41439934        15000        15000.0            15000.0   \n",
      "4  38656121   41439927        15000        15000.0            15000.0   \n",
      "\n",
      "        term  int_rate  instalment grade sub_grade  ... recoveries  \\\n",
      "0  36 months      7.49      248.82     A        A4  ...        0.0   \n",
      "1  36 months      6.99      407.52     A        A3  ...        0.0   \n",
      "2  36 months      7.49      497.63     A        A4  ...        0.0   \n",
      "3  36 months     14.31      514.93     C        C4  ...        0.0   \n",
      "4  36 months      6.03      456.54     A        A1  ...        0.0   \n",
      "\n",
      "  collection_recovery_fee  last_payment_date last_payment_amount  \\\n",
      "0                     0.0           Jan-2022              248.82   \n",
      "1                     0.0           Jan-2022              407.52   \n",
      "2                     0.0           Oct-2021            12850.16   \n",
      "3                     0.0           Jun-2021            13899.67   \n",
      "4                     0.0           Jan-2022              456.54   \n",
      "\n",
      "  next_payment_date last_credit_pull_date collections_12_mths_ex_med  \\\n",
      "0          Feb-2022              Jan-2022                        0.0   \n",
      "1          Feb-2022              Jan-2022                        0.0   \n",
      "2               NaN              Oct-2021                        0.0   \n",
      "3               NaN              Jun-2021                        0.0   \n",
      "4          Feb-2022              Jan-2022                        0.0   \n",
      "\n",
      "  mths_since_last_major_derog  policy_code  application_type  \n",
      "0                         5.0            1        INDIVIDUAL  \n",
      "1                         NaN            1        INDIVIDUAL  \n",
      "2                         NaN            1        INDIVIDUAL  \n",
      "3                         NaN            1        INDIVIDUAL  \n",
      "4                         NaN            1        INDIVIDUAL  \n",
      "\n",
      "[5 rows x 43 columns]\n",
      "id                               int64\n",
      "member_id                        int64\n",
      "loan_amount                      int64\n",
      "funded_amount                  float64\n",
      "funded_amount_inv              float64\n",
      "term                            object\n",
      "int_rate                       float64\n",
      "instalment                     float64\n",
      "grade                           object\n",
      "sub_grade                       object\n",
      "employment_length               object\n",
      "home_ownership                  object\n",
      "annual_inc                     float64\n",
      "verification_status             object\n",
      "issue_date                      object\n",
      "loan_status                     object\n",
      "payment_plan                    object\n",
      "purpose                         object\n",
      "dti                            float64\n",
      "delinq_2yrs                      int64\n",
      "earliest_credit_line            object\n",
      "inq_last_6mths                   int64\n",
      "mths_since_last_delinq         float64\n",
      "mths_since_last_record         float64\n",
      "open_accounts                    int64\n",
      "total_accounts                   int64\n",
      "out_prncp                      float64\n",
      "out_prncp_inv                  float64\n",
      "total_payment                  float64\n",
      "total_payment_inv              float64\n",
      "total_rec_prncp                float64\n",
      "total_rec_int                  float64\n",
      "total_rec_late_fee             float64\n",
      "recoveries                     float64\n",
      "collection_recovery_fee        float64\n",
      "last_payment_date               object\n",
      "last_payment_amount            float64\n",
      "next_payment_date               object\n",
      "last_credit_pull_date           object\n",
      "collections_12_mths_ex_med     float64\n",
      "mths_since_last_major_derog    float64\n",
      "policy_code                      int64\n",
      "application_type                object\n",
      "dtype: object\n",
      "<class 'pandas.core.frame.DataFrame'>\n",
      "RangeIndex: 54231 entries, 0 to 54230\n",
      "Data columns (total 43 columns):\n",
      " #   Column                       Non-Null Count  Dtype  \n",
      "---  ------                       --------------  -----  \n",
      " 0   id                           54231 non-null  int64  \n",
      " 1   member_id                    54231 non-null  int64  \n",
      " 2   loan_amount                  54231 non-null  int64  \n",
      " 3   funded_amount                51224 non-null  float64\n",
      " 4   funded_amount_inv            54231 non-null  float64\n",
      " 5   term                         49459 non-null  object \n",
      " 6   int_rate                     49062 non-null  float64\n",
      " 7   instalment                   54231 non-null  float64\n",
      " 8   grade                        54231 non-null  object \n",
      " 9   sub_grade                    54231 non-null  object \n",
      " 10  employment_length            52113 non-null  object \n",
      " 11  home_ownership               54231 non-null  object \n",
      " 12  annual_inc                   54231 non-null  float64\n",
      " 13  verification_status          54231 non-null  object \n",
      " 14  issue_date                   54231 non-null  object \n",
      " 15  loan_status                  54231 non-null  object \n",
      " 16  payment_plan                 54231 non-null  object \n",
      " 17  purpose                      54231 non-null  object \n",
      " 18  dti                          54231 non-null  float64\n",
      " 19  delinq_2yrs                  54231 non-null  int64  \n",
      " 20  earliest_credit_line         54231 non-null  object \n",
      " 21  inq_last_6mths               54231 non-null  int64  \n",
      " 22  mths_since_last_delinq       23229 non-null  float64\n",
      " 23  mths_since_last_record       6181 non-null   float64\n",
      " 24  open_accounts                54231 non-null  int64  \n",
      " 25  total_accounts               54231 non-null  int64  \n",
      " 26  out_prncp                    54231 non-null  float64\n",
      " 27  out_prncp_inv                54231 non-null  float64\n",
      " 28  total_payment                54231 non-null  float64\n",
      " 29  total_payment_inv            54231 non-null  float64\n",
      " 30  total_rec_prncp              54231 non-null  float64\n",
      " 31  total_rec_int                54231 non-null  float64\n",
      " 32  total_rec_late_fee           54231 non-null  float64\n",
      " 33  recoveries                   54231 non-null  float64\n",
      " 34  collection_recovery_fee      54231 non-null  float64\n",
      " 35  last_payment_date            54158 non-null  object \n",
      " 36  last_payment_amount          54231 non-null  float64\n",
      " 37  next_payment_date            21623 non-null  object \n",
      " 38  last_credit_pull_date        54224 non-null  object \n",
      " 39  collections_12_mths_ex_med   54180 non-null  float64\n",
      " 40  mths_since_last_major_derog  7499 non-null   float64\n",
      " 41  policy_code                  54231 non-null  int64  \n",
      " 42  application_type             54231 non-null  object \n",
      "dtypes: float64(20), int64(8), object(15)\n",
      "memory usage: 17.8+ MB\n",
      "None\n"
     ]
    }
   ],
   "source": [
    "import pandas as pd\n",
    "\n",
    "def load_local_file(file_path):\n",
    "    local_df = pd.read_csv(file_path)\n",
    "    return local_df \n",
    "    \n",
    "finance_df = load_local_file('loan_payments.csv')   \n",
    "print(finance_df.head())\n",
    "print(finance_df.dtypes)\n",
    "print(finance_df.info())"
   ]
  },
  {
   "cell_type": "markdown",
   "metadata": {},
   "source": [
    "Transform Functions"
   ]
  },
  {
   "cell_type": "code",
   "execution_count": 32,
   "metadata": {},
   "outputs": [],
   "source": [
    "class DataTransform:\n",
    "    def __init__(self, dataframe) -> None:\n",
    "        self.dataframe = dataframe\n",
    "        \n",
    "\n",
    "    def remove_txt(self, column):\n",
    "        self.dataframe[column] = pd.to_numeric(self.dataframe[column].str.extract('(\\d+)', expand=False))\n",
    "        \n",
    "        \n",
    "\n",
    "    def correct_date_format(self):\n",
    "       for column_name in self.dataframe.columns:\n",
    "        if 'date' in column_name.lower():\n",
    "            self.dataframe[column_name] = pd.to_datetime(self.dataframe[column_name])\n",
    "    \n",
    "    def correct_single_date_column(self, column_name):\n",
    "       self.dataframe[column_name] = pd.to_datetime(self.dataframe[column_name])\n",
    "            \n",
    "    \n",
    "    def type_to_category(self, column_name):\n",
    "       self.dataframe[column_name] = self.dataframe[column_name].astype('category')\n",
    "       \n",
    "\n",
    "mydata = DataTransform(finance_df)\n"
   ]
  },
  {
   "cell_type": "code",
   "execution_count": 33,
   "metadata": {},
   "outputs": [],
   "source": [
    "mydata.type_to_category('purpose')"
   ]
  },
  {
   "cell_type": "code",
   "execution_count": 35,
   "metadata": {},
   "outputs": [
    {
     "ename": "",
     "evalue": "",
     "output_type": "error",
     "traceback": [
      "\u001b[1;31mThe Kernel crashed while executing code in the the current cell or a previous cell. Please review the code in the cell(s) to identify a possible cause of the failure. Click <a href='https://aka.ms/vscodeJupyterKernelCrash'>here</a> for more info. View Jupyter <a href='command:jupyter.viewOutput'>log</a> for further details."
     ]
    }
   ],
   "source": [
    "\n",
    "finance_df.to_csv(r'C:\\Users\\Tom\\EDS_Project_Loan_Finance\\loan_payments_transformed.csv', index=False)"
   ]
  },
  {
   "cell_type": "code",
   "execution_count": 25,
   "metadata": {},
   "outputs": [],
   "source": [
    "mydata.correct_date_format()\n"
   ]
  },
  {
   "cell_type": "code",
   "execution_count": 28,
   "metadata": {},
   "outputs": [
    {
     "name": "stderr",
     "output_type": "stream",
     "text": [
      "C:\\Users\\Tom\\AppData\\Local\\Temp\\ipykernel_55184\\1322684595.py:17: UserWarning: Could not infer format, so each element will be parsed individually, falling back to `dateutil`. To ensure parsing is consistent and as-expected, please specify a format.\n",
      "  self.dataframe[column_name] = pd.to_datetime(self.dataframe[column_name])\n"
     ]
    }
   ],
   "source": [
    "mydata.correct_single_date_column('earliest_credit_line')"
   ]
  },
  {
   "cell_type": "code",
   "execution_count": 30,
   "metadata": {},
   "outputs": [
    {
     "name": "stdout",
     "output_type": "stream",
     "text": [
      "<class 'pandas.core.frame.DataFrame'>\n",
      "RangeIndex: 54231 entries, 0 to 54230\n",
      "Data columns (total 43 columns):\n",
      " #   Column                       Non-Null Count  Dtype         \n",
      "---  ------                       --------------  -----         \n",
      " 0   id                           54231 non-null  int64         \n",
      " 1   member_id                    54231 non-null  int64         \n",
      " 2   loan_amount                  54231 non-null  int64         \n",
      " 3   funded_amount                51224 non-null  float64       \n",
      " 4   funded_amount_inv            54231 non-null  float64       \n",
      " 5   term                         49459 non-null  float64       \n",
      " 6   int_rate                     49062 non-null  float64       \n",
      " 7   instalment                   54231 non-null  float64       \n",
      " 8   grade                        54231 non-null  object        \n",
      " 9   sub_grade                    54231 non-null  object        \n",
      " 10  employment_length            52113 non-null  object        \n",
      " 11  home_ownership               54231 non-null  object        \n",
      " 12  annual_inc                   54231 non-null  float64       \n",
      " 13  verification_status          54231 non-null  object        \n",
      " 14  issue_date                   54231 non-null  datetime64[ns]\n",
      " 15  loan_status                  54231 non-null  object        \n",
      " 16  payment_plan                 54231 non-null  object        \n",
      " 17  purpose                      54231 non-null  object        \n",
      " 18  dti                          54231 non-null  float64       \n",
      " 19  delinq_2yrs                  54231 non-null  int64         \n",
      " 20  earliest_credit_line         54231 non-null  datetime64[ns]\n",
      " 21  inq_last_6mths               54231 non-null  int64         \n",
      " 22  mths_since_last_delinq       23229 non-null  float64       \n",
      " 23  mths_since_last_record       6181 non-null   float64       \n",
      " 24  open_accounts                54231 non-null  int64         \n",
      " 25  total_accounts               54231 non-null  int64         \n",
      " 26  out_prncp                    54231 non-null  float64       \n",
      " 27  out_prncp_inv                54231 non-null  float64       \n",
      " 28  total_payment                54231 non-null  float64       \n",
      " 29  total_payment_inv            54231 non-null  float64       \n",
      " 30  total_rec_prncp              54231 non-null  float64       \n",
      " 31  total_rec_int                54231 non-null  float64       \n",
      " 32  total_rec_late_fee           54231 non-null  float64       \n",
      " 33  recoveries                   54231 non-null  float64       \n",
      " 34  collection_recovery_fee      54231 non-null  float64       \n",
      " 35  last_payment_date            54158 non-null  datetime64[ns]\n",
      " 36  last_payment_amount          54231 non-null  float64       \n",
      " 37  next_payment_date            21623 non-null  datetime64[ns]\n",
      " 38  last_credit_pull_date        54224 non-null  datetime64[ns]\n",
      " 39  collections_12_mths_ex_med   54180 non-null  float64       \n",
      " 40  mths_since_last_major_derog  7499 non-null   float64       \n",
      " 41  policy_code                  54231 non-null  int64         \n",
      " 42  application_type             54231 non-null  object        \n",
      "dtypes: datetime64[ns](5), float64(21), int64(8), object(9)\n",
      "memory usage: 17.8+ MB\n",
      "None\n"
     ]
    }
   ],
   "source": [
    "print(finance_df.info())"
   ]
  },
  {
   "cell_type": "code",
   "execution_count": 34,
   "metadata": {},
   "outputs": [
    {
     "data": {
      "text/plain": [
       "id                                      int64\n",
       "member_id                               int64\n",
       "loan_amount                             int64\n",
       "funded_amount                         float64\n",
       "funded_amount_inv                     float64\n",
       "term                                  float64\n",
       "int_rate                              float64\n",
       "instalment                            float64\n",
       "grade                                  object\n",
       "sub_grade                              object\n",
       "employment_length                      object\n",
       "home_ownership                         object\n",
       "annual_inc                            float64\n",
       "verification_status                    object\n",
       "issue_date                     datetime64[ns]\n",
       "loan_status                            object\n",
       "payment_plan                           object\n",
       "purpose                              category\n",
       "dti                                   float64\n",
       "delinq_2yrs                             int64\n",
       "earliest_credit_line           datetime64[ns]\n",
       "inq_last_6mths                          int64\n",
       "mths_since_last_delinq                float64\n",
       "mths_since_last_record                float64\n",
       "open_accounts                           int64\n",
       "total_accounts                          int64\n",
       "out_prncp                             float64\n",
       "out_prncp_inv                         float64\n",
       "total_payment                         float64\n",
       "total_payment_inv                     float64\n",
       "total_rec_prncp                       float64\n",
       "total_rec_int                         float64\n",
       "total_rec_late_fee                    float64\n",
       "recoveries                            float64\n",
       "collection_recovery_fee               float64\n",
       "last_payment_date              datetime64[ns]\n",
       "last_payment_amount                   float64\n",
       "next_payment_date              datetime64[ns]\n",
       "last_credit_pull_date          datetime64[ns]\n",
       "collections_12_mths_ex_med            float64\n",
       "mths_since_last_major_derog           float64\n",
       "policy_code                             int64\n",
       "application_type                       object\n",
       "dtype: object"
      ]
     },
     "execution_count": 34,
     "metadata": {},
     "output_type": "execute_result"
    }
   ],
   "source": [
    "finance_df.dtypes"
   ]
  },
  {
   "cell_type": "markdown",
   "metadata": {},
   "source": [
    "--Now load the converted data from the new CSV"
   ]
  },
  {
   "cell_type": "code",
   "execution_count": null,
   "metadata": {},
   "outputs": [],
   "source": [
    "def load_local_file(file_path):\n",
    "    new_local_df = pd.read_csv(file_path)\n",
    "    return local_df \n",
    "    \n",
    "transformed_df = load_local_file('loan_payments_transformed.csv')   \n",
    "print(transformed_df.head())\n",
    "print(transformed_df.dtypes)\n",
    "print(transformed_df.info())"
   ]
  }
 ],
 "metadata": {
  "kernelspec": {
   "display_name": "base",
   "language": "python",
   "name": "python3"
  },
  "language_info": {
   "codemirror_mode": {
    "name": "ipython",
    "version": 3
   },
   "file_extension": ".py",
   "mimetype": "text/x-python",
   "name": "python",
   "nbconvert_exporter": "python",
   "pygments_lexer": "ipython3",
   "version": "3.11.5"
  }
 },
 "nbformat": 4,
 "nbformat_minor": 2
}
